{
 "cells": [
  {
   "cell_type": "markdown",
   "metadata": {},
   "source": [
    "# Preprocessing"
   ]
  },
  {
   "cell_type": "code",
   "execution_count": 11,
   "metadata": {},
   "outputs": [],
   "source": [
    "import pandas as pd\n",
    "ds_path = '../dataset_2023'"
   ]
  },
  {
   "cell_type": "code",
   "execution_count": 20,
   "metadata": {},
   "outputs": [],
   "source": [
    "from tqdm import tqdm"
   ]
  },
  {
   "cell_type": "markdown",
   "metadata": {},
   "source": [
    "### The travel area data"
   ]
  },
  {
   "cell_type": "code",
   "execution_count": 18,
   "metadata": {},
   "outputs": [],
   "source": [
    "tn_visit_area_info = pd.read_csv(ds_path + '/Training/TL_csv/tn_visit_area_info_방문지정보_E.csv')"
   ]
  },
  {
   "cell_type": "code",
   "execution_count": 19,
   "metadata": {},
   "outputs": [
    {
     "data": {
      "text/html": [
       "<div>\n",
       "<style scoped>\n",
       "    .dataframe tbody tr th:only-of-type {\n",
       "        vertical-align: middle;\n",
       "    }\n",
       "\n",
       "    .dataframe tbody tr th {\n",
       "        vertical-align: top;\n",
       "    }\n",
       "\n",
       "    .dataframe thead th {\n",
       "        text-align: right;\n",
       "    }\n",
       "</style>\n",
       "<table border=\"1\" class=\"dataframe\">\n",
       "  <thead>\n",
       "    <tr style=\"text-align: right;\">\n",
       "      <th></th>\n",
       "      <th>VISIT_AREA_ID</th>\n",
       "      <th>TRAVEL_ID</th>\n",
       "      <th>VISIT_ORDER</th>\n",
       "      <th>VISIT_AREA_NM</th>\n",
       "      <th>VISIT_START_YMD</th>\n",
       "      <th>VISIT_END_YMD</th>\n",
       "      <th>ROAD_NM_ADDR</th>\n",
       "      <th>LOTNO_ADDR</th>\n",
       "      <th>X_COORD</th>\n",
       "      <th>Y_COORD</th>\n",
       "      <th>...</th>\n",
       "      <th>POI_NM</th>\n",
       "      <th>RESIDENCE_TIME_MIN</th>\n",
       "      <th>VISIT_AREA_TYPE_CD</th>\n",
       "      <th>REVISIT_YN</th>\n",
       "      <th>VISIT_CHC_REASON_CD</th>\n",
       "      <th>LODGING_TYPE_CD</th>\n",
       "      <th>DGSTFN</th>\n",
       "      <th>REVISIT_INTENTION</th>\n",
       "      <th>RCMDTN_INTENTION</th>\n",
       "      <th>SGG_CD</th>\n",
       "    </tr>\n",
       "  </thead>\n",
       "  <tbody>\n",
       "    <tr>\n",
       "      <th>1</th>\n",
       "      <td>2304300002</td>\n",
       "      <td>e_e000004</td>\n",
       "      <td>2</td>\n",
       "      <td>화성 관광열차 안내소 연무대 매표소</td>\n",
       "      <td>2023-04-30</td>\n",
       "      <td>2023-04-30</td>\n",
       "      <td>경기 수원시 팔달구 창룡대로103번길 20</td>\n",
       "      <td>경기 수원시 팔달구 매향동 3-32</td>\n",
       "      <td>127.023339</td>\n",
       "      <td>37.287878</td>\n",
       "      <td>...</td>\n",
       "      <td>동대문종합시장 악세서리부자재시장</td>\n",
       "      <td>60.0</td>\n",
       "      <td>2</td>\n",
       "      <td>N</td>\n",
       "      <td>10.0</td>\n",
       "      <td>NaN</td>\n",
       "      <td>4.0</td>\n",
       "      <td>3.0</td>\n",
       "      <td>4.0</td>\n",
       "      <td>NaN</td>\n",
       "    </tr>\n",
       "    <tr>\n",
       "      <th>2</th>\n",
       "      <td>2304300003</td>\n",
       "      <td>e_e000004</td>\n",
       "      <td>3</td>\n",
       "      <td>창룡문</td>\n",
       "      <td>2023-04-30</td>\n",
       "      <td>2023-04-30</td>\n",
       "      <td>NaN</td>\n",
       "      <td>경기 수원시 팔달구 남수동</td>\n",
       "      <td>127.025143</td>\n",
       "      <td>37.287791</td>\n",
       "      <td>...</td>\n",
       "      <td>창룡문</td>\n",
       "      <td>30.0</td>\n",
       "      <td>2</td>\n",
       "      <td>N</td>\n",
       "      <td>1.0</td>\n",
       "      <td>NaN</td>\n",
       "      <td>4.0</td>\n",
       "      <td>4.0</td>\n",
       "      <td>4.0</td>\n",
       "      <td>NaN</td>\n",
       "    </tr>\n",
       "    <tr>\n",
       "      <th>3</th>\n",
       "      <td>2304300004</td>\n",
       "      <td>e_e000004</td>\n",
       "      <td>4</td>\n",
       "      <td>수원 화성 화홍문</td>\n",
       "      <td>2023-04-30</td>\n",
       "      <td>2023-04-30</td>\n",
       "      <td>NaN</td>\n",
       "      <td>경기 수원시 팔달구 북수동 9000-1</td>\n",
       "      <td>127.017626</td>\n",
       "      <td>37.287546</td>\n",
       "      <td>...</td>\n",
       "      <td>수원화성 화홍문</td>\n",
       "      <td>60.0</td>\n",
       "      <td>2</td>\n",
       "      <td>N</td>\n",
       "      <td>10.0</td>\n",
       "      <td>NaN</td>\n",
       "      <td>4.0</td>\n",
       "      <td>3.0</td>\n",
       "      <td>3.0</td>\n",
       "      <td>NaN</td>\n",
       "    </tr>\n",
       "    <tr>\n",
       "      <th>8</th>\n",
       "      <td>2304300004</td>\n",
       "      <td>e_e000006</td>\n",
       "      <td>4</td>\n",
       "      <td>경춘선 자전거길</td>\n",
       "      <td>2023-04-30</td>\n",
       "      <td>2023-04-30</td>\n",
       "      <td>NaN</td>\n",
       "      <td>경기 가평군 청평면 하천리 158-2</td>\n",
       "      <td>127.436200</td>\n",
       "      <td>37.745958</td>\n",
       "      <td>...</td>\n",
       "      <td>경춘선자전거길</td>\n",
       "      <td>150.0</td>\n",
       "      <td>1</td>\n",
       "      <td>Y</td>\n",
       "      <td>4.0</td>\n",
       "      <td>NaN</td>\n",
       "      <td>5.0</td>\n",
       "      <td>5.0</td>\n",
       "      <td>5.0</td>\n",
       "      <td>NaN</td>\n",
       "    </tr>\n",
       "    <tr>\n",
       "      <th>17</th>\n",
       "      <td>2304290002</td>\n",
       "      <td>e_e000009</td>\n",
       "      <td>2</td>\n",
       "      <td>농협안성팜랜드</td>\n",
       "      <td>2023-04-29</td>\n",
       "      <td>2023-04-29</td>\n",
       "      <td>경기 안성시 공도읍 대신두길 28</td>\n",
       "      <td>경기 안성시 공도읍 신두리 451</td>\n",
       "      <td>127.193517</td>\n",
       "      <td>36.991317</td>\n",
       "      <td>...</td>\n",
       "      <td>안성팜랜드</td>\n",
       "      <td>30.0</td>\n",
       "      <td>6</td>\n",
       "      <td>N</td>\n",
       "      <td>1.0</td>\n",
       "      <td>NaN</td>\n",
       "      <td>4.0</td>\n",
       "      <td>4.0</td>\n",
       "      <td>4.0</td>\n",
       "      <td>NaN</td>\n",
       "    </tr>\n",
       "  </tbody>\n",
       "</table>\n",
       "<p>5 rows × 23 columns</p>\n",
       "</div>"
      ],
      "text/plain": [
       "    VISIT_AREA_ID  TRAVEL_ID  VISIT_ORDER        VISIT_AREA_NM  \\\n",
       "1      2304300002  e_e000004            2  화성 관광열차 안내소 연무대 매표소   \n",
       "2      2304300003  e_e000004            3                  창룡문   \n",
       "3      2304300004  e_e000004            4            수원 화성 화홍문   \n",
       "8      2304300004  e_e000006            4             경춘선 자전거길   \n",
       "17     2304290002  e_e000009            2              농협안성팜랜드   \n",
       "\n",
       "   VISIT_START_YMD VISIT_END_YMD             ROAD_NM_ADDR  \\\n",
       "1       2023-04-30    2023-04-30  경기 수원시 팔달구 창룡대로103번길 20   \n",
       "2       2023-04-30    2023-04-30                      NaN   \n",
       "3       2023-04-30    2023-04-30                      NaN   \n",
       "8       2023-04-30    2023-04-30                      NaN   \n",
       "17      2023-04-29    2023-04-29       경기 안성시 공도읍 대신두길 28   \n",
       "\n",
       "               LOTNO_ADDR     X_COORD    Y_COORD  ...             POI_NM  \\\n",
       "1     경기 수원시 팔달구 매향동 3-32  127.023339  37.287878  ...  동대문종합시장 악세서리부자재시장   \n",
       "2          경기 수원시 팔달구 남수동  127.025143  37.287791  ...                창룡문   \n",
       "3   경기 수원시 팔달구 북수동 9000-1  127.017626  37.287546  ...           수원화성 화홍문   \n",
       "8    경기 가평군 청평면 하천리 158-2  127.436200  37.745958  ...            경춘선자전거길   \n",
       "17     경기 안성시 공도읍 신두리 451  127.193517  36.991317  ...              안성팜랜드   \n",
       "\n",
       "    RESIDENCE_TIME_MIN VISIT_AREA_TYPE_CD REVISIT_YN  VISIT_CHC_REASON_CD  \\\n",
       "1                 60.0                  2          N                 10.0   \n",
       "2                 30.0                  2          N                  1.0   \n",
       "3                 60.0                  2          N                 10.0   \n",
       "8                150.0                  1          Y                  4.0   \n",
       "17                30.0                  6          N                  1.0   \n",
       "\n",
       "    LODGING_TYPE_CD DGSTFN  REVISIT_INTENTION  RCMDTN_INTENTION  SGG_CD  \n",
       "1               NaN    4.0                3.0               4.0     NaN  \n",
       "2               NaN    4.0                4.0               4.0     NaN  \n",
       "3               NaN    4.0                3.0               3.0     NaN  \n",
       "8               NaN    5.0                5.0               5.0     NaN  \n",
       "17              NaN    4.0                4.0               4.0     NaN  \n",
       "\n",
       "[5 rows x 23 columns]"
      ]
     },
     "execution_count": 19,
     "metadata": {},
     "output_type": "execute_result"
    }
   ],
   "source": [
    "# Remove the rows that is not a travel area (ref. E_capital_model.py)\n",
    "# See tc_codeb_코드B.csv for the meaning of the codes\n",
    "tn_visit_area_info_travel = tn_visit_area_info[(tn_visit_area_info['VISIT_AREA_TYPE_CD'] == 1) |\n",
    "   (tn_visit_area_info['VISIT_AREA_TYPE_CD'] == 2) |(tn_visit_area_info['VISIT_AREA_TYPE_CD'] == 3) | (tn_visit_area_info['VISIT_AREA_TYPE_CD'] == 4) |\n",
    "   (tn_visit_area_info['VISIT_AREA_TYPE_CD'] == 5) | (tn_visit_area_info['VISIT_AREA_TYPE_CD'] == 6) |(tn_visit_area_info['VISIT_AREA_TYPE_CD'] == 7) |\n",
    "   (tn_visit_area_info['VISIT_AREA_TYPE_CD'] == 8)]\n",
    "# tn_visit_area_info_travel = tn_visit_area_info_travel.groupby('VISIT_AREA_NM').filter(lambda x: len(x) > 1)\n",
    "tn_visit_area_info_travel.head()"
   ]
  },
  {
   "cell_type": "code",
   "execution_count": 21,
   "metadata": {},
   "outputs": [
    {
     "data": {
      "text/html": [
       "<div>\n",
       "<style scoped>\n",
       "    .dataframe tbody tr th:only-of-type {\n",
       "        vertical-align: middle;\n",
       "    }\n",
       "\n",
       "    .dataframe tbody tr th {\n",
       "        vertical-align: top;\n",
       "    }\n",
       "\n",
       "    .dataframe thead th {\n",
       "        text-align: right;\n",
       "    }\n",
       "</style>\n",
       "<table border=\"1\" class=\"dataframe\">\n",
       "  <thead>\n",
       "    <tr style=\"text-align: right;\">\n",
       "      <th></th>\n",
       "      <th>VISIT_AREA_ID</th>\n",
       "      <th>TRAVEL_ID</th>\n",
       "      <th>VISIT_ORDER</th>\n",
       "      <th>VISIT_AREA_NM</th>\n",
       "      <th>VISIT_START_YMD</th>\n",
       "      <th>VISIT_END_YMD</th>\n",
       "      <th>ROAD_NM_ADDR</th>\n",
       "      <th>LOTNO_ADDR</th>\n",
       "      <th>X_COORD</th>\n",
       "      <th>Y_COORD</th>\n",
       "      <th>...</th>\n",
       "      <th>POI_NM</th>\n",
       "      <th>RESIDENCE_TIME_MIN</th>\n",
       "      <th>VISIT_AREA_TYPE_CD</th>\n",
       "      <th>REVISIT_YN</th>\n",
       "      <th>VISIT_CHC_REASON_CD</th>\n",
       "      <th>LODGING_TYPE_CD</th>\n",
       "      <th>DGSTFN</th>\n",
       "      <th>REVISIT_INTENTION</th>\n",
       "      <th>RCMDTN_INTENTION</th>\n",
       "      <th>SGG_CD</th>\n",
       "    </tr>\n",
       "  </thead>\n",
       "  <tbody>\n",
       "    <tr>\n",
       "      <th>1</th>\n",
       "      <td>2304300002</td>\n",
       "      <td>e_e000004</td>\n",
       "      <td>2</td>\n",
       "      <td>화성 관광열차 안내소 연무대 매표소</td>\n",
       "      <td>2023-04-30</td>\n",
       "      <td>2023-04-30</td>\n",
       "      <td>경기 수원시 팔달구 창룡대로103번길 20</td>\n",
       "      <td>경기 수원시 팔달구 매향동 3-32</td>\n",
       "      <td>127.023339</td>\n",
       "      <td>37.287878</td>\n",
       "      <td>...</td>\n",
       "      <td>동대문종합시장 악세서리부자재시장</td>\n",
       "      <td>60.0</td>\n",
       "      <td>2</td>\n",
       "      <td>N</td>\n",
       "      <td>10.0</td>\n",
       "      <td>NaN</td>\n",
       "      <td>4.0</td>\n",
       "      <td>3.0</td>\n",
       "      <td>4.0</td>\n",
       "      <td>NaN</td>\n",
       "    </tr>\n",
       "    <tr>\n",
       "      <th>2</th>\n",
       "      <td>2304300003</td>\n",
       "      <td>e_e000004</td>\n",
       "      <td>3</td>\n",
       "      <td>창룡문</td>\n",
       "      <td>2023-04-30</td>\n",
       "      <td>2023-04-30</td>\n",
       "      <td>NaN</td>\n",
       "      <td>경기 수원시 팔달구 남수동</td>\n",
       "      <td>127.025143</td>\n",
       "      <td>37.287791</td>\n",
       "      <td>...</td>\n",
       "      <td>창룡문</td>\n",
       "      <td>30.0</td>\n",
       "      <td>2</td>\n",
       "      <td>N</td>\n",
       "      <td>1.0</td>\n",
       "      <td>NaN</td>\n",
       "      <td>4.0</td>\n",
       "      <td>4.0</td>\n",
       "      <td>4.0</td>\n",
       "      <td>NaN</td>\n",
       "    </tr>\n",
       "    <tr>\n",
       "      <th>3</th>\n",
       "      <td>2304300004</td>\n",
       "      <td>e_e000004</td>\n",
       "      <td>4</td>\n",
       "      <td>수원 화성 화홍문</td>\n",
       "      <td>2023-04-30</td>\n",
       "      <td>2023-04-30</td>\n",
       "      <td>NaN</td>\n",
       "      <td>경기 수원시 팔달구 북수동 9000-1</td>\n",
       "      <td>127.017626</td>\n",
       "      <td>37.287546</td>\n",
       "      <td>...</td>\n",
       "      <td>수원화성 화홍문</td>\n",
       "      <td>60.0</td>\n",
       "      <td>2</td>\n",
       "      <td>N</td>\n",
       "      <td>10.0</td>\n",
       "      <td>NaN</td>\n",
       "      <td>4.0</td>\n",
       "      <td>3.0</td>\n",
       "      <td>3.0</td>\n",
       "      <td>NaN</td>\n",
       "    </tr>\n",
       "    <tr>\n",
       "      <th>8</th>\n",
       "      <td>2304300004</td>\n",
       "      <td>e_e000006</td>\n",
       "      <td>4</td>\n",
       "      <td>경춘선 자전거길</td>\n",
       "      <td>2023-04-30</td>\n",
       "      <td>2023-04-30</td>\n",
       "      <td>NaN</td>\n",
       "      <td>경기 가평군 청평면 하천리 158-2</td>\n",
       "      <td>127.436200</td>\n",
       "      <td>37.745958</td>\n",
       "      <td>...</td>\n",
       "      <td>경춘선자전거길</td>\n",
       "      <td>150.0</td>\n",
       "      <td>1</td>\n",
       "      <td>Y</td>\n",
       "      <td>4.0</td>\n",
       "      <td>NaN</td>\n",
       "      <td>5.0</td>\n",
       "      <td>5.0</td>\n",
       "      <td>5.0</td>\n",
       "      <td>NaN</td>\n",
       "    </tr>\n",
       "    <tr>\n",
       "      <th>17</th>\n",
       "      <td>2304290002</td>\n",
       "      <td>e_e000009</td>\n",
       "      <td>2</td>\n",
       "      <td>농협안성팜랜드</td>\n",
       "      <td>2023-04-29</td>\n",
       "      <td>2023-04-29</td>\n",
       "      <td>경기 안성시 공도읍 대신두길 28</td>\n",
       "      <td>경기 안성시 공도읍 신두리 451</td>\n",
       "      <td>127.193517</td>\n",
       "      <td>36.991317</td>\n",
       "      <td>...</td>\n",
       "      <td>안성팜랜드</td>\n",
       "      <td>30.0</td>\n",
       "      <td>6</td>\n",
       "      <td>N</td>\n",
       "      <td>1.0</td>\n",
       "      <td>NaN</td>\n",
       "      <td>4.0</td>\n",
       "      <td>4.0</td>\n",
       "      <td>4.0</td>\n",
       "      <td>NaN</td>\n",
       "    </tr>\n",
       "  </tbody>\n",
       "</table>\n",
       "<p>5 rows × 23 columns</p>\n",
       "</div>"
      ],
      "text/plain": [
       "    VISIT_AREA_ID  TRAVEL_ID  VISIT_ORDER        VISIT_AREA_NM  \\\n",
       "1      2304300002  e_e000004            2  화성 관광열차 안내소 연무대 매표소   \n",
       "2      2304300003  e_e000004            3                  창룡문   \n",
       "3      2304300004  e_e000004            4            수원 화성 화홍문   \n",
       "8      2304300004  e_e000006            4             경춘선 자전거길   \n",
       "17     2304290002  e_e000009            2              농협안성팜랜드   \n",
       "\n",
       "   VISIT_START_YMD VISIT_END_YMD             ROAD_NM_ADDR  \\\n",
       "1       2023-04-30    2023-04-30  경기 수원시 팔달구 창룡대로103번길 20   \n",
       "2       2023-04-30    2023-04-30                      NaN   \n",
       "3       2023-04-30    2023-04-30                      NaN   \n",
       "8       2023-04-30    2023-04-30                      NaN   \n",
       "17      2023-04-29    2023-04-29       경기 안성시 공도읍 대신두길 28   \n",
       "\n",
       "               LOTNO_ADDR     X_COORD    Y_COORD  ...             POI_NM  \\\n",
       "1     경기 수원시 팔달구 매향동 3-32  127.023339  37.287878  ...  동대문종합시장 악세서리부자재시장   \n",
       "2          경기 수원시 팔달구 남수동  127.025143  37.287791  ...                창룡문   \n",
       "3   경기 수원시 팔달구 북수동 9000-1  127.017626  37.287546  ...           수원화성 화홍문   \n",
       "8    경기 가평군 청평면 하천리 158-2  127.436200  37.745958  ...            경춘선자전거길   \n",
       "17     경기 안성시 공도읍 신두리 451  127.193517  36.991317  ...              안성팜랜드   \n",
       "\n",
       "    RESIDENCE_TIME_MIN VISIT_AREA_TYPE_CD REVISIT_YN  VISIT_CHC_REASON_CD  \\\n",
       "1                 60.0                  2          N                 10.0   \n",
       "2                 30.0                  2          N                  1.0   \n",
       "3                 60.0                  2          N                 10.0   \n",
       "8                150.0                  1          Y                  4.0   \n",
       "17                30.0                  6          N                  1.0   \n",
       "\n",
       "    LODGING_TYPE_CD DGSTFN  REVISIT_INTENTION  RCMDTN_INTENTION  SGG_CD  \n",
       "1               NaN    4.0                3.0               4.0     NaN  \n",
       "2               NaN    4.0                4.0               4.0     NaN  \n",
       "3               NaN    4.0                3.0               3.0     NaN  \n",
       "8               NaN    5.0                5.0               5.0     NaN  \n",
       "17              NaN    4.0                4.0               4.0     NaN  \n",
       "\n",
       "[5 rows x 23 columns]"
      ]
     },
     "execution_count": 21,
     "metadata": {},
     "output_type": "execute_result"
    }
   ],
   "source": [
    "tn_visit_area_info_travel = (tn_visit_area_info_travel[\n",
    "    tn_visit_area_info_travel['ROAD_NM_ADDR'].notna() |\n",
    "    tn_visit_area_info_travel['LOTNO_CD'].notna() |\n",
    "    tn_visit_area_info_travel['POI_ID'].notna()])\n",
    "tn_visit_area_info_travel.head()"
   ]
  },
  {
   "cell_type": "code",
   "execution_count": 22,
   "metadata": {},
   "outputs": [],
   "source": [
    "# Save the cleaned data\n",
    "tn_visit_area_info_travel.to_csv('./tn_visit_area_info_travel.csv', index=False)"
   ]
  },
  {
   "cell_type": "markdown",
   "metadata": {},
   "source": [
    "### The travel data"
   ]
  },
  {
   "cell_type": "code",
   "execution_count": 12,
   "metadata": {},
   "outputs": [],
   "source": [
    "tn_travel = pd.read_csv(ds_path + '/Training/TL_csv/tn_travel_여행_E.csv')"
   ]
  },
  {
   "cell_type": "markdown",
   "metadata": {},
   "source": [
    "### The interaction matrix"
   ]
  },
  {
   "cell_type": "code",
   "execution_count": 13,
   "metadata": {},
   "outputs": [],
   "source": [
    "# Load\n",
    "tn_visit_area_info_travel = pd.read_csv('./tn_visit_area_info_travel.csv')"
   ]
  },
  {
   "cell_type": "code",
   "execution_count": 16,
   "metadata": {},
   "outputs": [
    {
     "data": {
      "text/plain": [
       "VISIT_AREA_ID                       2304300002\n",
       "TRAVEL_ID                            e_e000004\n",
       "VISIT_ORDER                                  2\n",
       "VISIT_AREA_NM              화성 관광열차 안내소 연무대 매표소\n",
       "VISIT_START_YMD                     2023-04-30\n",
       "VISIT_END_YMD                       2023-04-30\n",
       "ROAD_NM_ADDR           경기 수원시 팔달구 창룡대로103번길 20\n",
       "LOTNO_ADDR                 경기 수원시 팔달구 매향동 3-32\n",
       "X_COORD                             127.023339\n",
       "Y_COORD                              37.287878\n",
       "ROAD_NM_CD                                 NaN\n",
       "LOTNO_CD                                   NaN\n",
       "POI_ID                       POI01000000ALZU7R\n",
       "POI_NM                       동대문종합시장 악세서리부자재시장\n",
       "RESIDENCE_TIME_MIN                        60.0\n",
       "VISIT_AREA_TYPE_CD                           2\n",
       "REVISIT_YN                                   N\n",
       "VISIT_CHC_REASON_CD                       10.0\n",
       "LODGING_TYPE_CD                            NaN\n",
       "DGSTFN                                     4.0\n",
       "REVISIT_INTENTION                          3.0\n",
       "RCMDTN_INTENTION                           4.0\n",
       "SGG_CD                                     NaN\n",
       "Name: 0, dtype: object"
      ]
     },
     "execution_count": 16,
     "metadata": {},
     "output_type": "execute_result"
    }
   ],
   "source": [
    "visit_area_sample = tn_visit_area_info_travel.iloc[0]\n",
    "visit_area_sample"
   ]
  },
  {
   "cell_type": "code",
   "execution_count": 19,
   "metadata": {},
   "outputs": [
    {
     "name": "stdout",
     "output_type": "stream",
     "text": [
      "item: 2304300002\n",
      "user: e000004\n",
      "score: 3.0\n"
     ]
    }
   ],
   "source": [
    "print('item:', visit_area_sample['VISIT_AREA_ID'])\n",
    "travel = tn_travel[tn_travel['TRAVEL_ID'] == visit_area_sample['TRAVEL_ID']]\n",
    "print('user:', travel['TRAVELER_ID'].values[0])\n",
    "print('score:', visit_area_sample['REVISIT_INTENTION'])"
   ]
  },
  {
   "cell_type": "code",
   "execution_count": 21,
   "metadata": {},
   "outputs": [
    {
     "name": "stderr",
     "output_type": "stream",
     "text": [
      "6303it [00:03, 1674.70it/s]\n"
     ]
    },
    {
     "data": {
      "text/plain": [
       "[('e000004', 2304300002, 3.0),\n",
       " ('e000004', 2304300003, 4.0),\n",
       " ('e000004', 2304300004, 3.0),\n",
       " ('e000006', 2304300004, 5.0),\n",
       " ('e000009', 2304290002, 4.0),\n",
       " ('e000009', 2304290003, 5.0),\n",
       " ('e000009', 2304300003, 5.0),\n",
       " ('e000010', 2304290006, 4.0),\n",
       " ('e000010', 2304290009, 3.0),\n",
       " ('e000010', 2304300001, 5.0)]"
      ]
     },
     "execution_count": 21,
     "metadata": {},
     "output_type": "execute_result"
    }
   ],
   "source": [
    "# Make a list of (user, item, rating) tuples\n",
    "dataset = []\n",
    "\n",
    "for index, row in tqdm(tn_visit_area_info_travel.iterrows()):\n",
    "    travel = tn_travel[tn_travel['TRAVEL_ID'] == row['TRAVEL_ID']]\n",
    "    dataset.append((travel['TRAVELER_ID'].values[0], row['VISIT_AREA_ID'], row['REVISIT_INTENTION']))\n",
    "\n",
    "dataset[:10]"
   ]
  },
  {
   "cell_type": "markdown",
   "metadata": {},
   "source": [
    "# BPR-MF\n",
    "ref. https://github.com/recommenders-team/recommenders/blob/main/examples/02_model_collaborative_filtering/cornac_bpr_deep_dive.ipynb"
   ]
  },
  {
   "cell_type": "code",
   "execution_count": 2,
   "metadata": {},
   "outputs": [
    {
     "name": "stderr",
     "output_type": "stream",
     "text": [
      "d:\\Development\\EUM-POIRecSys\\BPR\\venv\\lib\\site-packages\\tqdm\\auto.py:21: TqdmWarning: IProgress not found. Please update jupyter and ipywidgets. See https://ipywidgets.readthedocs.io/en/stable/user_install.html\n",
      "  from .autonotebook import tqdm as notebook_tqdm\n"
     ]
    }
   ],
   "source": [
    "import cornac\n",
    "from cornac.eval_methods import RatioSplit\n",
    "from cornac.models import MF, PMF, BPR\n",
    "from cornac.metrics import MAE, RMSE, Precision, Recall, NDCG, AUC, MAP"
   ]
  },
  {
   "cell_type": "markdown",
   "metadata": {},
   "source": [
    "### cornac library example"
   ]
  },
  {
   "cell_type": "code",
   "execution_count": 3,
   "metadata": {},
   "outputs": [
    {
     "name": "stdout",
     "output_type": "stream",
     "text": [
      "\n",
      "TEST:\n",
      "...\n",
      "    |    MAE |   RMSE |    AUC |    MAP | NDCG@10 | Precision@10 | Recall@10 | Train (s) | Test (s)\n",
      "--- + ------ + ------ + ------ + ------ + ------- + ------------ + --------- + --------- + --------\n",
      "MF  | 0.7430 | 0.8998 | 0.7445 | 0.0548 |  0.0761 |       0.0675 |    0.0463 |    0.1336 |   1.8364\n",
      "PMF | 0.7534 | 0.9138 | 0.7744 | 0.0671 |  0.0969 |       0.0813 |    0.0639 |    3.6442 |   1.6939\n",
      "BPR | 2.0143 | 2.2267 | 0.8695 | 0.1042 |  0.1500 |       0.1110 |    0.1195 |    2.3033 |   1.8942\n",
      "\n"
     ]
    }
   ],
   "source": [
    "# load the built-in MovieLens 100K and split the data based on ratio\n",
    "ml_100k = cornac.datasets.movielens.load_feedback()\n",
    "rs = RatioSplit(data=ml_100k, test_size=0.2, rating_threshold=4.0, seed=123)\n",
    "\n",
    "# initialize models, here we are comparing: Biased MF, PMF, and BPR\n",
    "mf = MF(k=10, max_iter=25, learning_rate=0.01, lambda_reg=0.02, use_bias=True, seed=123)\n",
    "pmf = PMF(k=10, max_iter=100, learning_rate=0.001, lambda_reg=0.001, seed=123)\n",
    "bpr = BPR(k=10, max_iter=200, learning_rate=0.001, lambda_reg=0.01, seed=123)\n",
    "models = [mf, pmf, bpr]\n",
    "\n",
    "# define metrics to evaluate the models\n",
    "metrics = [MAE(), RMSE(), Precision(k=10), Recall(k=10), NDCG(k=10), AUC(), MAP()]\n",
    "\n",
    "# put it together in an experiment, voilà!\n",
    "cornac.Experiment(eval_method=rs, models=models, metrics=metrics, user_based=True).run()"
   ]
  },
  {
   "cell_type": "code",
   "execution_count": 5,
   "metadata": {},
   "outputs": [
    {
     "data": {
      "text/plain": [
       "list"
      ]
     },
     "execution_count": 5,
     "metadata": {},
     "output_type": "execute_result"
    }
   ],
   "source": [
    "type(ml_100k)"
   ]
  },
  {
   "cell_type": "code",
   "execution_count": 22,
   "metadata": {},
   "outputs": [
    {
     "data": {
      "text/plain": [
       "[('196', '242', 3.0),\n",
       " ('186', '302', 3.0),\n",
       " ('22', '377', 1.0),\n",
       " ('244', '51', 2.0),\n",
       " ('166', '346', 1.0),\n",
       " ('298', '474', 4.0),\n",
       " ('115', '265', 2.0),\n",
       " ('253', '465', 5.0),\n",
       " ('305', '451', 3.0),\n",
       " ('6', '86', 3.0)]"
      ]
     },
     "execution_count": 22,
     "metadata": {},
     "output_type": "execute_result"
    }
   ],
   "source": [
    "ml_100k[:10]"
   ]
  },
  {
   "cell_type": "markdown",
   "metadata": {},
   "source": [
    "### Doing the same thing with our dataset"
   ]
  },
  {
   "cell_type": "code",
   "execution_count": 23,
   "metadata": {},
   "outputs": [
    {
     "name": "stdout",
     "output_type": "stream",
     "text": [
      "\n",
      "TEST:\n",
      "...\n",
      "    |    MAE |   RMSE |    AUC |    MAP | NDCG@10 | Precision@10 | Recall@10 | Train (s) | Test (s)\n",
      "--- + ------ + ------ + ------ + ------ + ------- + ------------ + --------- + --------- + --------\n",
      "MF  | 0.7196 | 0.7375 | 0.5084 | 0.0060 |  0.0031 |       0.0010 |    0.0080 |    0.0115 |   1.1023\n",
      "PMF | 1.1078 | 1.1278 | 0.7232 | 0.0944 |  0.1097 |       0.0244 |    0.1969 |    0.3104 |   1.0217\n",
      "BPR | 3.0389 | 3.0561 | 0.7788 | 0.0482 |  0.0465 |       0.0096 |    0.0822 |    0.1317 |   0.8570\n",
      "\n"
     ]
    }
   ],
   "source": [
    "# load the built-in MovieLens 100K and split the data based on ratio\n",
    "rs = RatioSplit(data=dataset, test_size=0.2, rating_threshold=4.0, seed=123)\n",
    "\n",
    "# initialize models, here we are comparing: Biased MF, PMF, and BPR\n",
    "mf = MF(k=10, max_iter=25, learning_rate=0.01, lambda_reg=0.02, use_bias=True, seed=123)\n",
    "pmf = PMF(k=10, max_iter=100, learning_rate=0.001, lambda_reg=0.001, seed=123)\n",
    "bpr = BPR(k=10, max_iter=200, learning_rate=0.001, lambda_reg=0.01, seed=123)\n",
    "models = [mf, pmf, bpr]\n",
    "\n",
    "# define metrics to evaluate the models\n",
    "metrics = [MAE(), RMSE(), Precision(k=10), Recall(k=10), NDCG(k=10), AUC(), MAP()]\n",
    "\n",
    "# put it together in an experiment, voilà!\n",
    "cornac.Experiment(eval_method=rs, models=models, metrics=metrics, user_based=True).run()"
   ]
  },
  {
   "cell_type": "code",
   "execution_count": null,
   "metadata": {},
   "outputs": [],
   "source": []
  }
 ],
 "metadata": {
  "kernelspec": {
   "display_name": "venv",
   "language": "python",
   "name": "python3"
  },
  "language_info": {
   "codemirror_mode": {
    "name": "ipython",
    "version": 3
   },
   "file_extension": ".py",
   "mimetype": "text/x-python",
   "name": "python",
   "nbconvert_exporter": "python",
   "pygments_lexer": "ipython3",
   "version": "3.10.11"
  }
 },
 "nbformat": 4,
 "nbformat_minor": 2
}
