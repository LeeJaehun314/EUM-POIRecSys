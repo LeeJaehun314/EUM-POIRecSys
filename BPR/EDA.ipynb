{
 "cells": [
  {
   "cell_type": "markdown",
   "metadata": {},
   "source": [
    "# 방문지 정보 Overview"
   ]
  },
  {
   "cell_type": "markdown",
   "metadata": {},
   "source": [
    "### Basic review"
   ]
  },
  {
   "cell_type": "code",
   "execution_count": 1,
   "metadata": {},
   "outputs": [],
   "source": [
    "import pandas as pd"
   ]
  },
  {
   "cell_type": "code",
   "execution_count": 2,
   "metadata": {},
   "outputs": [],
   "source": [
    "ds_path = '../dataset_2023'"
   ]
  },
  {
   "cell_type": "code",
   "execution_count": 3,
   "metadata": {},
   "outputs": [],
   "source": [
    "tn_visit_area_info = pd.read_csv(ds_path + '/Training/TL_csv/tn_visit_area_info_방문지정보_E.csv')"
   ]
  },
  {
   "cell_type": "code",
   "execution_count": 4,
   "metadata": {},
   "outputs": [
    {
     "data": {
      "text/html": [
       "<div>\n",
       "<style scoped>\n",
       "    .dataframe tbody tr th:only-of-type {\n",
       "        vertical-align: middle;\n",
       "    }\n",
       "\n",
       "    .dataframe tbody tr th {\n",
       "        vertical-align: top;\n",
       "    }\n",
       "\n",
       "    .dataframe thead th {\n",
       "        text-align: right;\n",
       "    }\n",
       "</style>\n",
       "<table border=\"1\" class=\"dataframe\">\n",
       "  <thead>\n",
       "    <tr style=\"text-align: right;\">\n",
       "      <th></th>\n",
       "      <th>VISIT_AREA_ID</th>\n",
       "      <th>TRAVEL_ID</th>\n",
       "      <th>VISIT_ORDER</th>\n",
       "      <th>VISIT_AREA_NM</th>\n",
       "      <th>VISIT_START_YMD</th>\n",
       "      <th>VISIT_END_YMD</th>\n",
       "      <th>ROAD_NM_ADDR</th>\n",
       "      <th>LOTNO_ADDR</th>\n",
       "      <th>X_COORD</th>\n",
       "      <th>Y_COORD</th>\n",
       "      <th>...</th>\n",
       "      <th>POI_NM</th>\n",
       "      <th>RESIDENCE_TIME_MIN</th>\n",
       "      <th>VISIT_AREA_TYPE_CD</th>\n",
       "      <th>REVISIT_YN</th>\n",
       "      <th>VISIT_CHC_REASON_CD</th>\n",
       "      <th>LODGING_TYPE_CD</th>\n",
       "      <th>DGSTFN</th>\n",
       "      <th>REVISIT_INTENTION</th>\n",
       "      <th>RCMDTN_INTENTION</th>\n",
       "      <th>SGG_CD</th>\n",
       "    </tr>\n",
       "  </thead>\n",
       "  <tbody>\n",
       "    <tr>\n",
       "      <th>0</th>\n",
       "      <td>2304300001</td>\n",
       "      <td>e_e000004</td>\n",
       "      <td>1</td>\n",
       "      <td>집</td>\n",
       "      <td>2023-04-30</td>\n",
       "      <td>2023-04-30</td>\n",
       "      <td>NaN</td>\n",
       "      <td>NaN</td>\n",
       "      <td>NaN</td>\n",
       "      <td>NaN</td>\n",
       "      <td>...</td>\n",
       "      <td>NaN</td>\n",
       "      <td>NaN</td>\n",
       "      <td>21</td>\n",
       "      <td>NaN</td>\n",
       "      <td>NaN</td>\n",
       "      <td>NaN</td>\n",
       "      <td>NaN</td>\n",
       "      <td>NaN</td>\n",
       "      <td>NaN</td>\n",
       "      <td>4.159012e+09</td>\n",
       "    </tr>\n",
       "    <tr>\n",
       "      <th>1</th>\n",
       "      <td>2304300002</td>\n",
       "      <td>e_e000004</td>\n",
       "      <td>2</td>\n",
       "      <td>화성 관광열차 안내소 연무대 매표소</td>\n",
       "      <td>2023-04-30</td>\n",
       "      <td>2023-04-30</td>\n",
       "      <td>경기 수원시 팔달구 창룡대로103번길 20</td>\n",
       "      <td>경기 수원시 팔달구 매향동 3-32</td>\n",
       "      <td>127.023339</td>\n",
       "      <td>37.287878</td>\n",
       "      <td>...</td>\n",
       "      <td>동대문종합시장 악세서리부자재시장</td>\n",
       "      <td>60.0</td>\n",
       "      <td>2</td>\n",
       "      <td>N</td>\n",
       "      <td>10.0</td>\n",
       "      <td>NaN</td>\n",
       "      <td>4.0</td>\n",
       "      <td>3.0</td>\n",
       "      <td>4.0</td>\n",
       "      <td>NaN</td>\n",
       "    </tr>\n",
       "    <tr>\n",
       "      <th>2</th>\n",
       "      <td>2304300003</td>\n",
       "      <td>e_e000004</td>\n",
       "      <td>3</td>\n",
       "      <td>창룡문</td>\n",
       "      <td>2023-04-30</td>\n",
       "      <td>2023-04-30</td>\n",
       "      <td>NaN</td>\n",
       "      <td>경기 수원시 팔달구 남수동</td>\n",
       "      <td>127.025143</td>\n",
       "      <td>37.287791</td>\n",
       "      <td>...</td>\n",
       "      <td>창룡문</td>\n",
       "      <td>30.0</td>\n",
       "      <td>2</td>\n",
       "      <td>N</td>\n",
       "      <td>1.0</td>\n",
       "      <td>NaN</td>\n",
       "      <td>4.0</td>\n",
       "      <td>4.0</td>\n",
       "      <td>4.0</td>\n",
       "      <td>NaN</td>\n",
       "    </tr>\n",
       "    <tr>\n",
       "      <th>3</th>\n",
       "      <td>2304300004</td>\n",
       "      <td>e_e000004</td>\n",
       "      <td>4</td>\n",
       "      <td>수원 화성 화홍문</td>\n",
       "      <td>2023-04-30</td>\n",
       "      <td>2023-04-30</td>\n",
       "      <td>NaN</td>\n",
       "      <td>경기 수원시 팔달구 북수동 9000-1</td>\n",
       "      <td>127.017626</td>\n",
       "      <td>37.287546</td>\n",
       "      <td>...</td>\n",
       "      <td>수원화성 화홍문</td>\n",
       "      <td>60.0</td>\n",
       "      <td>2</td>\n",
       "      <td>N</td>\n",
       "      <td>10.0</td>\n",
       "      <td>NaN</td>\n",
       "      <td>4.0</td>\n",
       "      <td>3.0</td>\n",
       "      <td>3.0</td>\n",
       "      <td>NaN</td>\n",
       "    </tr>\n",
       "    <tr>\n",
       "      <th>4</th>\n",
       "      <td>2304300005</td>\n",
       "      <td>e_e000004</td>\n",
       "      <td>5</td>\n",
       "      <td>집</td>\n",
       "      <td>2023-04-30</td>\n",
       "      <td>2023-05-01</td>\n",
       "      <td>NaN</td>\n",
       "      <td>NaN</td>\n",
       "      <td>NaN</td>\n",
       "      <td>NaN</td>\n",
       "      <td>...</td>\n",
       "      <td>NaN</td>\n",
       "      <td>390.0</td>\n",
       "      <td>21</td>\n",
       "      <td>NaN</td>\n",
       "      <td>NaN</td>\n",
       "      <td>NaN</td>\n",
       "      <td>NaN</td>\n",
       "      <td>NaN</td>\n",
       "      <td>NaN</td>\n",
       "      <td>4.159012e+09</td>\n",
       "    </tr>\n",
       "  </tbody>\n",
       "</table>\n",
       "<p>5 rows × 23 columns</p>\n",
       "</div>"
      ],
      "text/plain": [
       "   VISIT_AREA_ID  TRAVEL_ID  VISIT_ORDER        VISIT_AREA_NM VISIT_START_YMD  \\\n",
       "0     2304300001  e_e000004            1                    집      2023-04-30   \n",
       "1     2304300002  e_e000004            2  화성 관광열차 안내소 연무대 매표소      2023-04-30   \n",
       "2     2304300003  e_e000004            3                  창룡문      2023-04-30   \n",
       "3     2304300004  e_e000004            4            수원 화성 화홍문      2023-04-30   \n",
       "4     2304300005  e_e000004            5                    집      2023-04-30   \n",
       "\n",
       "  VISIT_END_YMD             ROAD_NM_ADDR             LOTNO_ADDR     X_COORD  \\\n",
       "0    2023-04-30                      NaN                    NaN         NaN   \n",
       "1    2023-04-30  경기 수원시 팔달구 창룡대로103번길 20    경기 수원시 팔달구 매향동 3-32  127.023339   \n",
       "2    2023-04-30                      NaN         경기 수원시 팔달구 남수동  127.025143   \n",
       "3    2023-04-30                      NaN  경기 수원시 팔달구 북수동 9000-1  127.017626   \n",
       "4    2023-05-01                      NaN                    NaN         NaN   \n",
       "\n",
       "     Y_COORD  ...             POI_NM  RESIDENCE_TIME_MIN VISIT_AREA_TYPE_CD  \\\n",
       "0        NaN  ...                NaN                 NaN                 21   \n",
       "1  37.287878  ...  동대문종합시장 악세서리부자재시장                60.0                  2   \n",
       "2  37.287791  ...                창룡문                30.0                  2   \n",
       "3  37.287546  ...           수원화성 화홍문                60.0                  2   \n",
       "4        NaN  ...                NaN               390.0                 21   \n",
       "\n",
       "  REVISIT_YN  VISIT_CHC_REASON_CD  LODGING_TYPE_CD DGSTFN  REVISIT_INTENTION  \\\n",
       "0        NaN                  NaN              NaN    NaN                NaN   \n",
       "1          N                 10.0              NaN    4.0                3.0   \n",
       "2          N                  1.0              NaN    4.0                4.0   \n",
       "3          N                 10.0              NaN    4.0                3.0   \n",
       "4        NaN                  NaN              NaN    NaN                NaN   \n",
       "\n",
       "   RCMDTN_INTENTION        SGG_CD  \n",
       "0               NaN  4.159012e+09  \n",
       "1               4.0           NaN  \n",
       "2               4.0           NaN  \n",
       "3               3.0           NaN  \n",
       "4               NaN  4.159012e+09  \n",
       "\n",
       "[5 rows x 23 columns]"
      ]
     },
     "execution_count": 4,
     "metadata": {},
     "output_type": "execute_result"
    }
   ],
   "source": [
    "tn_visit_area_info.head()"
   ]
  },
  {
   "cell_type": "code",
   "execution_count": 11,
   "metadata": {},
   "outputs": [
    {
     "data": {
      "text/plain": [
       "VISIT_AREA_ID                       2304300002\n",
       "TRAVEL_ID                            e_e000004\n",
       "VISIT_ORDER                                  2\n",
       "VISIT_AREA_NM              화성 관광열차 안내소 연무대 매표소\n",
       "VISIT_START_YMD                     2023-04-30\n",
       "VISIT_END_YMD                       2023-04-30\n",
       "ROAD_NM_ADDR           경기 수원시 팔달구 창룡대로103번길 20\n",
       "LOTNO_ADDR                 경기 수원시 팔달구 매향동 3-32\n",
       "X_COORD                             127.023339\n",
       "Y_COORD                              37.287878\n",
       "ROAD_NM_CD                                 NaN\n",
       "LOTNO_CD                                   NaN\n",
       "POI_ID                       POI01000000ALZU7R\n",
       "POI_NM                       동대문종합시장 악세서리부자재시장\n",
       "RESIDENCE_TIME_MIN                        60.0\n",
       "VISIT_AREA_TYPE_CD                           2\n",
       "REVISIT_YN                                   N\n",
       "VISIT_CHC_REASON_CD                       10.0\n",
       "LODGING_TYPE_CD                            NaN\n",
       "DGSTFN                                     4.0\n",
       "REVISIT_INTENTION                          3.0\n",
       "RCMDTN_INTENTION                           4.0\n",
       "SGG_CD                                     NaN\n",
       "Name: 1, dtype: object"
      ]
     },
     "execution_count": 11,
     "metadata": {},
     "output_type": "execute_result"
    }
   ],
   "source": [
    "tn_visit_area_info.iloc[1]"
   ]
  },
  {
   "cell_type": "code",
   "execution_count": 5,
   "metadata": {},
   "outputs": [
    {
     "data": {
      "text/plain": [
       "(21384, 23)"
      ]
     },
     "execution_count": 5,
     "metadata": {},
     "output_type": "execute_result"
    }
   ],
   "source": [
    "tn_visit_area_info.shape"
   ]
  },
  {
   "cell_type": "code",
   "execution_count": 14,
   "metadata": {},
   "outputs": [
    {
     "data": {
      "text/plain": [
       "(18293, 23)"
      ]
     },
     "execution_count": 14,
     "metadata": {},
     "output_type": "execute_result"
    }
   ],
   "source": [
    "# If remove na from ROAD_NM_ADDR\n",
    "tn_visit_area_info.dropna(subset=['ROAD_NM_ADDR']).shape"
   ]
  },
  {
   "cell_type": "code",
   "execution_count": 15,
   "metadata": {},
   "outputs": [
    {
     "data": {
      "text/plain": [
       "(14674, 23)"
      ]
     },
     "execution_count": 15,
     "metadata": {},
     "output_type": "execute_result"
    }
   ],
   "source": [
    "# If remove na from POI_ID\n",
    "tn_visit_area_info.dropna(subset=['POI_ID']).shape"
   ]
  },
  {
   "cell_type": "code",
   "execution_count": 13,
   "metadata": {},
   "outputs": [
    {
     "data": {
      "text/html": [
       "<div>\n",
       "<style scoped>\n",
       "    .dataframe tbody tr th:only-of-type {\n",
       "        vertical-align: middle;\n",
       "    }\n",
       "\n",
       "    .dataframe tbody tr th {\n",
       "        vertical-align: top;\n",
       "    }\n",
       "\n",
       "    .dataframe thead th {\n",
       "        text-align: right;\n",
       "    }\n",
       "</style>\n",
       "<table border=\"1\" class=\"dataframe\">\n",
       "  <thead>\n",
       "    <tr style=\"text-align: right;\">\n",
       "      <th></th>\n",
       "      <th>VISIT_AREA_ID</th>\n",
       "      <th>TRAVEL_ID</th>\n",
       "      <th>VISIT_ORDER</th>\n",
       "      <th>VISIT_AREA_NM</th>\n",
       "      <th>VISIT_START_YMD</th>\n",
       "      <th>VISIT_END_YMD</th>\n",
       "      <th>ROAD_NM_ADDR</th>\n",
       "      <th>LOTNO_ADDR</th>\n",
       "      <th>X_COORD</th>\n",
       "      <th>Y_COORD</th>\n",
       "      <th>...</th>\n",
       "      <th>POI_NM</th>\n",
       "      <th>RESIDENCE_TIME_MIN</th>\n",
       "      <th>VISIT_AREA_TYPE_CD</th>\n",
       "      <th>REVISIT_YN</th>\n",
       "      <th>VISIT_CHC_REASON_CD</th>\n",
       "      <th>LODGING_TYPE_CD</th>\n",
       "      <th>DGSTFN</th>\n",
       "      <th>REVISIT_INTENTION</th>\n",
       "      <th>RCMDTN_INTENTION</th>\n",
       "      <th>SGG_CD</th>\n",
       "    </tr>\n",
       "  </thead>\n",
       "  <tbody>\n",
       "    <tr>\n",
       "      <th>1</th>\n",
       "      <td>2304300002</td>\n",
       "      <td>e_e000004</td>\n",
       "      <td>2</td>\n",
       "      <td>화성 관광열차 안내소 연무대 매표소</td>\n",
       "      <td>2023-04-30</td>\n",
       "      <td>2023-04-30</td>\n",
       "      <td>경기 수원시 팔달구 창룡대로103번길 20</td>\n",
       "      <td>경기 수원시 팔달구 매향동 3-32</td>\n",
       "      <td>127.023339</td>\n",
       "      <td>37.287878</td>\n",
       "      <td>...</td>\n",
       "      <td>동대문종합시장 악세서리부자재시장</td>\n",
       "      <td>60.0</td>\n",
       "      <td>2</td>\n",
       "      <td>N</td>\n",
       "      <td>10.0</td>\n",
       "      <td>NaN</td>\n",
       "      <td>4.0</td>\n",
       "      <td>3.0</td>\n",
       "      <td>4.0</td>\n",
       "      <td>NaN</td>\n",
       "    </tr>\n",
       "    <tr>\n",
       "      <th>2</th>\n",
       "      <td>2304300003</td>\n",
       "      <td>e_e000004</td>\n",
       "      <td>3</td>\n",
       "      <td>창룡문</td>\n",
       "      <td>2023-04-30</td>\n",
       "      <td>2023-04-30</td>\n",
       "      <td>NaN</td>\n",
       "      <td>경기 수원시 팔달구 남수동</td>\n",
       "      <td>127.025143</td>\n",
       "      <td>37.287791</td>\n",
       "      <td>...</td>\n",
       "      <td>창룡문</td>\n",
       "      <td>30.0</td>\n",
       "      <td>2</td>\n",
       "      <td>N</td>\n",
       "      <td>1.0</td>\n",
       "      <td>NaN</td>\n",
       "      <td>4.0</td>\n",
       "      <td>4.0</td>\n",
       "      <td>4.0</td>\n",
       "      <td>NaN</td>\n",
       "    </tr>\n",
       "    <tr>\n",
       "      <th>3</th>\n",
       "      <td>2304300004</td>\n",
       "      <td>e_e000004</td>\n",
       "      <td>4</td>\n",
       "      <td>수원 화성 화홍문</td>\n",
       "      <td>2023-04-30</td>\n",
       "      <td>2023-04-30</td>\n",
       "      <td>NaN</td>\n",
       "      <td>경기 수원시 팔달구 북수동 9000-1</td>\n",
       "      <td>127.017626</td>\n",
       "      <td>37.287546</td>\n",
       "      <td>...</td>\n",
       "      <td>수원화성 화홍문</td>\n",
       "      <td>60.0</td>\n",
       "      <td>2</td>\n",
       "      <td>N</td>\n",
       "      <td>10.0</td>\n",
       "      <td>NaN</td>\n",
       "      <td>4.0</td>\n",
       "      <td>3.0</td>\n",
       "      <td>3.0</td>\n",
       "      <td>NaN</td>\n",
       "    </tr>\n",
       "    <tr>\n",
       "      <th>8</th>\n",
       "      <td>2304300004</td>\n",
       "      <td>e_e000006</td>\n",
       "      <td>4</td>\n",
       "      <td>경춘선 자전거길</td>\n",
       "      <td>2023-04-30</td>\n",
       "      <td>2023-04-30</td>\n",
       "      <td>NaN</td>\n",
       "      <td>경기 가평군 청평면 하천리 158-2</td>\n",
       "      <td>127.436200</td>\n",
       "      <td>37.745958</td>\n",
       "      <td>...</td>\n",
       "      <td>경춘선자전거길</td>\n",
       "      <td>150.0</td>\n",
       "      <td>1</td>\n",
       "      <td>Y</td>\n",
       "      <td>4.0</td>\n",
       "      <td>NaN</td>\n",
       "      <td>5.0</td>\n",
       "      <td>5.0</td>\n",
       "      <td>5.0</td>\n",
       "      <td>NaN</td>\n",
       "    </tr>\n",
       "    <tr>\n",
       "      <th>17</th>\n",
       "      <td>2304290002</td>\n",
       "      <td>e_e000009</td>\n",
       "      <td>2</td>\n",
       "      <td>농협안성팜랜드</td>\n",
       "      <td>2023-04-29</td>\n",
       "      <td>2023-04-29</td>\n",
       "      <td>경기 안성시 공도읍 대신두길 28</td>\n",
       "      <td>경기 안성시 공도읍 신두리 451</td>\n",
       "      <td>127.193517</td>\n",
       "      <td>36.991317</td>\n",
       "      <td>...</td>\n",
       "      <td>안성팜랜드</td>\n",
       "      <td>30.0</td>\n",
       "      <td>6</td>\n",
       "      <td>N</td>\n",
       "      <td>1.0</td>\n",
       "      <td>NaN</td>\n",
       "      <td>4.0</td>\n",
       "      <td>4.0</td>\n",
       "      <td>4.0</td>\n",
       "      <td>NaN</td>\n",
       "    </tr>\n",
       "  </tbody>\n",
       "</table>\n",
       "<p>5 rows × 23 columns</p>\n",
       "</div>"
      ],
      "text/plain": [
       "    VISIT_AREA_ID  TRAVEL_ID  VISIT_ORDER        VISIT_AREA_NM  \\\n",
       "1      2304300002  e_e000004            2  화성 관광열차 안내소 연무대 매표소   \n",
       "2      2304300003  e_e000004            3                  창룡문   \n",
       "3      2304300004  e_e000004            4            수원 화성 화홍문   \n",
       "8      2304300004  e_e000006            4             경춘선 자전거길   \n",
       "17     2304290002  e_e000009            2              농협안성팜랜드   \n",
       "\n",
       "   VISIT_START_YMD VISIT_END_YMD             ROAD_NM_ADDR  \\\n",
       "1       2023-04-30    2023-04-30  경기 수원시 팔달구 창룡대로103번길 20   \n",
       "2       2023-04-30    2023-04-30                      NaN   \n",
       "3       2023-04-30    2023-04-30                      NaN   \n",
       "8       2023-04-30    2023-04-30                      NaN   \n",
       "17      2023-04-29    2023-04-29       경기 안성시 공도읍 대신두길 28   \n",
       "\n",
       "               LOTNO_ADDR     X_COORD    Y_COORD  ...             POI_NM  \\\n",
       "1     경기 수원시 팔달구 매향동 3-32  127.023339  37.287878  ...  동대문종합시장 악세서리부자재시장   \n",
       "2          경기 수원시 팔달구 남수동  127.025143  37.287791  ...                창룡문   \n",
       "3   경기 수원시 팔달구 북수동 9000-1  127.017626  37.287546  ...           수원화성 화홍문   \n",
       "8    경기 가평군 청평면 하천리 158-2  127.436200  37.745958  ...            경춘선자전거길   \n",
       "17     경기 안성시 공도읍 신두리 451  127.193517  36.991317  ...              안성팜랜드   \n",
       "\n",
       "    RESIDENCE_TIME_MIN VISIT_AREA_TYPE_CD REVISIT_YN  VISIT_CHC_REASON_CD  \\\n",
       "1                 60.0                  2          N                 10.0   \n",
       "2                 30.0                  2          N                  1.0   \n",
       "3                 60.0                  2          N                 10.0   \n",
       "8                150.0                  1          Y                  4.0   \n",
       "17                30.0                  6          N                  1.0   \n",
       "\n",
       "    LODGING_TYPE_CD DGSTFN  REVISIT_INTENTION  RCMDTN_INTENTION  SGG_CD  \n",
       "1               NaN    4.0                3.0               4.0     NaN  \n",
       "2               NaN    4.0                4.0               4.0     NaN  \n",
       "3               NaN    4.0                3.0               3.0     NaN  \n",
       "8               NaN    5.0                5.0               5.0     NaN  \n",
       "17              NaN    4.0                4.0               4.0     NaN  \n",
       "\n",
       "[5 rows x 23 columns]"
      ]
     },
     "execution_count": 13,
     "metadata": {},
     "output_type": "execute_result"
    }
   ],
   "source": [
    "# Remove the rows that is not a travel area (ref. E_capital_model.py)\n",
    "# See tc_codeb_코드B.csv for the meaning of the codes\n",
    "tn_visit_area_info_travel = tn_visit_area_info[(tn_visit_area_info['VISIT_AREA_TYPE_CD'] == 1) |\n",
    "   (tn_visit_area_info['VISIT_AREA_TYPE_CD'] == 2) |(tn_visit_area_info['VISIT_AREA_TYPE_CD'] == 3) | (tn_visit_area_info['VISIT_AREA_TYPE_CD'] == 4) |\n",
    "   (tn_visit_area_info['VISIT_AREA_TYPE_CD'] == 5) | (tn_visit_area_info['VISIT_AREA_TYPE_CD'] == 6) |(tn_visit_area_info['VISIT_AREA_TYPE_CD'] == 7) |\n",
    "   (tn_visit_area_info['VISIT_AREA_TYPE_CD'] == 8)]\n",
    "# tn_visit_area_info_travel = tn_visit_area_info_travel.groupby('VISIT_AREA_NM').filter(lambda x: len(x) > 1)\n",
    "tn_visit_area_info_travel.head()"
   ]
  },
  {
   "cell_type": "code",
   "execution_count": 16,
   "metadata": {},
   "outputs": [
    {
     "data": {
      "text/plain": [
       "(6471, 23)"
      ]
     },
     "execution_count": 16,
     "metadata": {},
     "output_type": "execute_result"
    }
   ],
   "source": [
    "tn_visit_area_info_travel.shape"
   ]
  },
  {
   "cell_type": "code",
   "execution_count": 17,
   "metadata": {},
   "outputs": [
    {
     "data": {
      "text/plain": [
       "(4853, 23)"
      ]
     },
     "execution_count": 17,
     "metadata": {},
     "output_type": "execute_result"
    }
   ],
   "source": [
    "# Again remove na from ROAD_NM_ADDR\n",
    "tn_visit_area_info_travel.dropna(subset=['ROAD_NM_ADDR']).shape"
   ]
  },
  {
   "cell_type": "code",
   "execution_count": 18,
   "metadata": {},
   "outputs": [
    {
     "data": {
      "text/plain": [
       "(5951, 23)"
      ]
     },
     "execution_count": 18,
     "metadata": {},
     "output_type": "execute_result"
    }
   ],
   "source": [
    "# If remove na from POI_ID\n",
    "tn_visit_area_info_travel.dropna(subset=['POI_ID']).shape"
   ]
  },
  {
   "cell_type": "code",
   "execution_count": 24,
   "metadata": {},
   "outputs": [
    {
     "data": {
      "text/plain": [
       "(6303, 23)"
      ]
     },
     "execution_count": 24,
     "metadata": {},
     "output_type": "execute_result"
    }
   ],
   "source": [
    "# If remove points where we cannot know the location from any of the columns\n",
    "# At least one of following columns should have a value: ROAD_NM_ADDR, LOTNO_CD, POI_ID\n",
    "(tn_visit_area_info_travel[\n",
    "    tn_visit_area_info_travel['ROAD_NM_ADDR'].notna() |\n",
    "    tn_visit_area_info_travel['LOTNO_CD'].notna() |\n",
    "    tn_visit_area_info_travel['POI_ID'].notna()]).shape"
   ]
  },
  {
   "cell_type": "markdown",
   "metadata": {},
   "source": [
    "### Let's get the tn_poi_master_POIMaster_all.csv"
   ]
  },
  {
   "cell_type": "code",
   "execution_count": 20,
   "metadata": {},
   "outputs": [
    {
     "name": "stderr",
     "output_type": "stream",
     "text": [
      "C:\\Users\\ljhga\\AppData\\Local\\Temp\\ipykernel_17204\\542230333.py:1: DtypeWarning: Columns (3,4,12) have mixed types. Specify dtype option on import or set low_memory=False.\n",
      "  poi = pd.read_csv(ds_path + '/Other/tn_poi_master_POIMaster_all.csv')\n"
     ]
    }
   ],
   "source": [
    "poi = pd.read_csv(ds_path + '/Other/tn_poi_master_POIMaster_all.csv') # Note that this is quite a big file, this may take a minute to load"
   ]
  },
  {
   "cell_type": "code",
   "execution_count": 22,
   "metadata": {},
   "outputs": [
    {
     "data": {
      "text/html": [
       "<div>\n",
       "<style scoped>\n",
       "    .dataframe tbody tr th:only-of-type {\n",
       "        vertical-align: middle;\n",
       "    }\n",
       "\n",
       "    .dataframe tbody tr th {\n",
       "        vertical-align: top;\n",
       "    }\n",
       "\n",
       "    .dataframe thead th {\n",
       "        text-align: right;\n",
       "    }\n",
       "</style>\n",
       "<table border=\"1\" class=\"dataframe\">\n",
       "  <thead>\n",
       "    <tr style=\"text-align: right;\">\n",
       "      <th></th>\n",
       "      <th>POI_ID</th>\n",
       "      <th>POI_NM</th>\n",
       "      <th>BRNO</th>\n",
       "      <th>SGG_CD</th>\n",
       "      <th>ROAD_NM_ADDR</th>\n",
       "      <th>LOTNO_ADDR</th>\n",
       "      <th>ASORT_LCLASDC</th>\n",
       "      <th>ASORT_MLSFCDC</th>\n",
       "      <th>ASORT_SDASDC</th>\n",
       "      <th>X_COORD</th>\n",
       "      <th>Y_COORD</th>\n",
       "      <th>ROAD_NM_CD</th>\n",
       "      <th>LOTNO_CD</th>\n",
       "    </tr>\n",
       "  </thead>\n",
       "  <tbody>\n",
       "    <tr>\n",
       "      <th>0</th>\n",
       "      <td>POI0100000000001X</td>\n",
       "      <td>장안평</td>\n",
       "      <td></td>\n",
       "      <td>1123010600</td>\n",
       "      <td>NaN</td>\n",
       "      <td>서울특별시 동대문구 장안동 566 대</td>\n",
       "      <td>NaN</td>\n",
       "      <td>NaN</td>\n",
       "      <td>NaN</td>\n",
       "      <td>127.068515</td>\n",
       "      <td>37.563459</td>\n",
       "      <td></td>\n",
       "      <td>1123010600105660000</td>\n",
       "    </tr>\n",
       "    <tr>\n",
       "      <th>1</th>\n",
       "      <td>POI0100000000002Y</td>\n",
       "      <td>육연평야</td>\n",
       "      <td></td>\n",
       "      <td>4136025322</td>\n",
       "      <td>NaN</td>\n",
       "      <td>경기도 남양주시 진접읍 내각리 445-2답</td>\n",
       "      <td>NaN</td>\n",
       "      <td>NaN</td>\n",
       "      <td>NaN</td>\n",
       "      <td>127.168214</td>\n",
       "      <td>37.697096</td>\n",
       "      <td></td>\n",
       "      <td>4136025322104450002</td>\n",
       "    </tr>\n",
       "    <tr>\n",
       "      <th>2</th>\n",
       "      <td>POI0100000000003Z</td>\n",
       "      <td>두평야</td>\n",
       "      <td></td>\n",
       "      <td>4157025321</td>\n",
       "      <td>NaN</td>\n",
       "      <td>경기도 김포시 고촌읍 향산리 401 대</td>\n",
       "      <td>NaN</td>\n",
       "      <td>NaN</td>\n",
       "      <td>NaN</td>\n",
       "      <td>126.744188</td>\n",
       "      <td>37.624167</td>\n",
       "      <td></td>\n",
       "      <td>4157025321104010000</td>\n",
       "    </tr>\n",
       "    <tr>\n",
       "      <th>3</th>\n",
       "      <td>POI01000000000040</td>\n",
       "      <td>우두평야</td>\n",
       "      <td></td>\n",
       "      <td>4211011800</td>\n",
       "      <td>NaN</td>\n",
       "      <td>강원도 춘천시 우두동 1120 공</td>\n",
       "      <td>NaN</td>\n",
       "      <td>NaN</td>\n",
       "      <td>NaN</td>\n",
       "      <td>127.733450</td>\n",
       "      <td>37.910152</td>\n",
       "      <td></td>\n",
       "      <td>4211011800111200000</td>\n",
       "    </tr>\n",
       "    <tr>\n",
       "      <th>4</th>\n",
       "      <td>POI01000000000051</td>\n",
       "      <td>예단평야</td>\n",
       "      <td></td>\n",
       "      <td>4276033025</td>\n",
       "      <td>NaN</td>\n",
       "      <td>강원도 평창군 대화면 하안미리 1904답</td>\n",
       "      <td>NaN</td>\n",
       "      <td>NaN</td>\n",
       "      <td>NaN</td>\n",
       "      <td>128.431603</td>\n",
       "      <td>37.456985</td>\n",
       "      <td></td>\n",
       "      <td>4276033025119040000</td>\n",
       "    </tr>\n",
       "  </tbody>\n",
       "</table>\n",
       "</div>"
      ],
      "text/plain": [
       "              POI_ID POI_NM  BRNO      SGG_CD ROAD_NM_ADDR  \\\n",
       "0  POI0100000000001X    장안평        1123010600          NaN   \n",
       "1  POI0100000000002Y   육연평야        4136025322          NaN   \n",
       "2  POI0100000000003Z    두평야        4157025321          NaN   \n",
       "3  POI01000000000040   우두평야        4211011800          NaN   \n",
       "4  POI01000000000051   예단평야        4276033025          NaN   \n",
       "\n",
       "                               LOTNO_ADDR  ASORT_LCLASDC  ASORT_MLSFCDC  \\\n",
       "0  서울특별시 동대문구 장안동 566 대                              NaN            NaN   \n",
       "1  경기도 남양주시 진접읍 내각리 445-2답                           NaN            NaN   \n",
       "2      경기도 김포시 고촌읍 향산리 401 대                         NaN            NaN   \n",
       "3  강원도 춘천시 우두동 1120 공                                NaN            NaN   \n",
       "4  강원도 평창군 대화면 하안미리 1904답                            NaN            NaN   \n",
       "\n",
       "   ASORT_SDASDC     X_COORD    Y_COORD                 ROAD_NM_CD  \\\n",
       "0           NaN  127.068515  37.563459                              \n",
       "1           NaN  127.168214  37.697096                              \n",
       "2           NaN  126.744188  37.624167                              \n",
       "3           NaN  127.733450  37.910152                              \n",
       "4           NaN  128.431603  37.456985                              \n",
       "\n",
       "              LOTNO_CD  \n",
       "0  1123010600105660000  \n",
       "1  4136025322104450002  \n",
       "2  4157025321104010000  \n",
       "3  4211011800111200000  \n",
       "4  4276033025119040000  "
      ]
     },
     "execution_count": 22,
     "metadata": {},
     "output_type": "execute_result"
    }
   ],
   "source": [
    "poi.head()"
   ]
  },
  {
   "cell_type": "code",
   "execution_count": 21,
   "metadata": {},
   "outputs": [
    {
     "data": {
      "text/plain": [
       "(7442866, 13)"
      ]
     },
     "execution_count": 21,
     "metadata": {},
     "output_type": "execute_result"
    }
   ],
   "source": [
    "poi.shape"
   ]
  },
  {
   "cell_type": "markdown",
   "metadata": {},
   "source": [
    "### The travel data"
   ]
  },
  {
   "cell_type": "code",
   "execution_count": 25,
   "metadata": {},
   "outputs": [],
   "source": [
    "tn_travel = pd.read_csv(ds_path + '/Training/TL_csv/tn_travel_여행_E.csv')"
   ]
  },
  {
   "cell_type": "code",
   "execution_count": 26,
   "metadata": {},
   "outputs": [
    {
     "data": {
      "text/html": [
       "<div>\n",
       "<style scoped>\n",
       "    .dataframe tbody tr th:only-of-type {\n",
       "        vertical-align: middle;\n",
       "    }\n",
       "\n",
       "    .dataframe tbody tr th {\n",
       "        vertical-align: top;\n",
       "    }\n",
       "\n",
       "    .dataframe thead th {\n",
       "        text-align: right;\n",
       "    }\n",
       "</style>\n",
       "<table border=\"1\" class=\"dataframe\">\n",
       "  <thead>\n",
       "    <tr style=\"text-align: right;\">\n",
       "      <th></th>\n",
       "      <th>TRAVEL_ID</th>\n",
       "      <th>TRAVEL_NM</th>\n",
       "      <th>TRAVELER_ID</th>\n",
       "      <th>TRAVEL_PURPOSE</th>\n",
       "      <th>TRAVEL_START_YMD</th>\n",
       "      <th>TRAVEL_END_YMD</th>\n",
       "      <th>MVMN_NM</th>\n",
       "      <th>TRAVEL_PERSONA</th>\n",
       "      <th>TRAVEL_MISSION</th>\n",
       "      <th>TRAVEL_MISSION_CHECK</th>\n",
       "    </tr>\n",
       "  </thead>\n",
       "  <tbody>\n",
       "    <tr>\n",
       "      <th>0</th>\n",
       "      <td>e_e000004</td>\n",
       "      <td>E03</td>\n",
       "      <td>e000004</td>\n",
       "      <td>3</td>\n",
       "      <td>2023-04-30</td>\n",
       "      <td>2023-05-01</td>\n",
       "      <td>NaN</td>\n",
       "      <td>서울 외 수도권 방문/수도권 거주/40세 이상/자녀동반/일반미션</td>\n",
       "      <td>3</td>\n",
       "      <td>3;4;11</td>\n",
       "    </tr>\n",
       "    <tr>\n",
       "      <th>1</th>\n",
       "      <td>e_e000006</td>\n",
       "      <td>E03</td>\n",
       "      <td>e000006</td>\n",
       "      <td>21</td>\n",
       "      <td>2023-04-30</td>\n",
       "      <td>2023-05-02</td>\n",
       "      <td>NaN</td>\n",
       "      <td>경기 방문/거주지 구분 없음/39세 이하/특별미션</td>\n",
       "      <td>21</td>\n",
       "      <td>21;10;27</td>\n",
       "    </tr>\n",
       "    <tr>\n",
       "      <th>2</th>\n",
       "      <td>e_e000009</td>\n",
       "      <td>E03</td>\n",
       "      <td>e000009</td>\n",
       "      <td>2;4</td>\n",
       "      <td>2023-04-29</td>\n",
       "      <td>2023-05-01</td>\n",
       "      <td>NaN</td>\n",
       "      <td>서울 외 수도권 방문/수도권 거주/39세 이하/커플/일반미션</td>\n",
       "      <td>2;4</td>\n",
       "      <td>22;1;7</td>\n",
       "    </tr>\n",
       "    <tr>\n",
       "      <th>3</th>\n",
       "      <td>e_e000010</td>\n",
       "      <td>E01</td>\n",
       "      <td>e000010</td>\n",
       "      <td>3;6</td>\n",
       "      <td>2023-04-29</td>\n",
       "      <td>2023-05-01</td>\n",
       "      <td>NaN</td>\n",
       "      <td>서울 방문/수도권 외 거주/39세 이하/나홀로 여행/일반미션</td>\n",
       "      <td>3;6</td>\n",
       "      <td>6;3;1</td>\n",
       "    </tr>\n",
       "    <tr>\n",
       "      <th>4</th>\n",
       "      <td>e_e000011</td>\n",
       "      <td>E01</td>\n",
       "      <td>e000011</td>\n",
       "      <td>1;21</td>\n",
       "      <td>2023-04-28</td>\n",
       "      <td>2023-05-01</td>\n",
       "      <td>NaN</td>\n",
       "      <td>서울 방문/수도권 외 거주/40세 이상/커플/일반미션</td>\n",
       "      <td>1;21</td>\n",
       "      <td>6;2;24</td>\n",
       "    </tr>\n",
       "  </tbody>\n",
       "</table>\n",
       "</div>"
      ],
      "text/plain": [
       "   TRAVEL_ID TRAVEL_NM TRAVELER_ID TRAVEL_PURPOSE TRAVEL_START_YMD  \\\n",
       "0  e_e000004       E03     e000004              3       2023-04-30   \n",
       "1  e_e000006       E03     e000006             21       2023-04-30   \n",
       "2  e_e000009       E03     e000009            2;4       2023-04-29   \n",
       "3  e_e000010       E01     e000010            3;6       2023-04-29   \n",
       "4  e_e000011       E01     e000011           1;21       2023-04-28   \n",
       "\n",
       "  TRAVEL_END_YMD MVMN_NM                       TRAVEL_PERSONA TRAVEL_MISSION  \\\n",
       "0     2023-05-01     NaN  서울 외 수도권 방문/수도권 거주/40세 이상/자녀동반/일반미션              3   \n",
       "1     2023-05-02     NaN          경기 방문/거주지 구분 없음/39세 이하/특별미션             21   \n",
       "2     2023-05-01     NaN    서울 외 수도권 방문/수도권 거주/39세 이하/커플/일반미션            2;4   \n",
       "3     2023-05-01     NaN    서울 방문/수도권 외 거주/39세 이하/나홀로 여행/일반미션            3;6   \n",
       "4     2023-05-01     NaN        서울 방문/수도권 외 거주/40세 이상/커플/일반미션           1;21   \n",
       "\n",
       "  TRAVEL_MISSION_CHECK  \n",
       "0               3;4;11  \n",
       "1             21;10;27  \n",
       "2               22;1;7  \n",
       "3                6;3;1  \n",
       "4               6;2;24  "
      ]
     },
     "execution_count": 26,
     "metadata": {},
     "output_type": "execute_result"
    }
   ],
   "source": [
    "tn_travel.head()"
   ]
  },
  {
   "cell_type": "code",
   "execution_count": null,
   "metadata": {},
   "outputs": [],
   "source": []
  }
 ],
 "metadata": {
  "kernelspec": {
   "display_name": "venv",
   "language": "python",
   "name": "python3"
  },
  "language_info": {
   "codemirror_mode": {
    "name": "ipython",
    "version": 3
   },
   "file_extension": ".py",
   "mimetype": "text/x-python",
   "name": "python",
   "nbconvert_exporter": "python",
   "pygments_lexer": "ipython3",
   "version": "3.10.11"
  }
 },
 "nbformat": 4,
 "nbformat_minor": 2
}
