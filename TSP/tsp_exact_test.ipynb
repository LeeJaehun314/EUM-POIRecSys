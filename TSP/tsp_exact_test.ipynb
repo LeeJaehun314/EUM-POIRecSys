{
 "cells": [
  {
   "cell_type": "markdown",
   "metadata": {},
   "source": [
    "### Held Karp Implementation"
   ]
  },
  {
   "cell_type": "code",
   "execution_count": 39,
   "metadata": {},
   "outputs": [],
   "source": [
    "import math\n",
    "from functools import cache\n",
    "\n",
    "def held_karp_solver(adj_matrix):\n",
    "    \"\"\"\n",
    "    Solve the (modified) traveling salesman problem using Held-Karp algorithm (Dynamic Programming).\n",
    "    \n",
    "    Parameters:\n",
    "    adj_matrix: adjacency matrix where adj_matrix[i][j] is the distance from node i to node j\n",
    "    \n",
    "    Returns:\n",
    "    path: list representing the shortest path from the first node to the last node\n",
    "    distance: the shortest distance for the path\n",
    "    \"\"\"\n",
    "    \n",
    "    n = len(adj_matrix)\n",
    "    if n == 0:\n",
    "        return [], 0\n",
    "    \n",
    "    @cache\n",
    "    def g(S, k):\n",
    "        \"\"\"\n",
    "        Recursive function to find the minimum distance to reach node k from node 0 after visiting all nodes in set S.\n",
    "        \n",
    "        Parameters:\n",
    "        S: bit-mask representing the set of nodes to visit in-between (ex. node 1, 3 = 0b101)\n",
    "        k: the last node to visit\n",
    "        \n",
    "        Returns:\n",
    "        dist: the minimum distance to reach node k from node 0 through all nodes in S\n",
    "        prev: the previous node before reaching k\n",
    "        \"\"\"\n",
    "        if S == 0:\n",
    "            return adj_matrix[0][k], 0\n",
    "        \n",
    "        # Evaluate minimum distance by checking all possible previous nodes in the set S\n",
    "        return min(\n",
    "            (g(S ^ (1 << (i - 1)), i)[0] + adj_matrix[i][k], i) # dist(S - {i}, i) + dist(i, k)\n",
    "            for i in range(1, n) if S & (1 << (i - 1)) # For all i in S\n",
    "        )\n",
    "\n",
    "    # Initialize S as all nodes except node 0 and node n-1\n",
    "    S = (1 << (n - 1)) - 1 \n",
    "    dist, prev = g(S, n - 1)\n",
    "\n",
    "    # Reconstruct the path by backtracking from the last node\n",
    "    path = []\n",
    "    while S:\n",
    "        path.append(prev)\n",
    "        S ^= 1 << (prev - 1) # S = S - {prev}\n",
    "        _, prev = g(S, prev)\n",
    "\n",
    "    return [0] + path[::-1], dist\n"
   ]
  },
  {
   "cell_type": "markdown",
   "metadata": {},
   "source": [
    "Implementation using python set for performance comparison"
   ]
  },
  {
   "cell_type": "code",
   "execution_count": 40,
   "metadata": {},
   "outputs": [],
   "source": [
    "import math\n",
    "from functools import cache\n",
    "\n",
    "# Parameters:\n",
    "#   adj_matrix: adjacency matrix of the graph where adj_matrix[i][j] represents the distance from node i to node j\n",
    "# Return:\n",
    "#   path: the shortest path from the first node to the last node\n",
    "#   distance: the distance of the shortest path\n",
    "def held_karp_solver_using_set(adj_matrix):\n",
    "    # Find the shortest path\n",
    "    n = len(adj_matrix)\n",
    "\n",
    "    if n == 0:\n",
    "        return [], 0\n",
    "\n",
    "    # Dynamic programming function\n",
    "    # Parameter:\n",
    "    #   S: frozenset of nodes to visit\n",
    "    #   k: the last node to visit\n",
    "    # Return:\n",
    "    #   dist: the distance from the first node to k while visiting all nodes in S exactly once\n",
    "    #   prev: the previous node to visit before k\n",
    "    @cache\n",
    "    def g(S, k):\n",
    "        if not S:  # If there are no nodes to visit before k\n",
    "            return adj_matrix[0][k], 0  # dist(0, k) = adj_matrix[0][k], prev(0, k) = 0\n",
    "        \n",
    "        # Find the minimum distance from the first node to k while visiting all nodes in S exactly once\n",
    "        candidates = [\n",
    "            (g(S - frozenset([i]), i)[0] + adj_matrix[i][k], i)  # dist(S - {i}, i) + dist(i, k)\n",
    "            for i in S\n",
    "        ]\n",
    "        return min(candidates, key=lambda x: x[0])\n",
    "    \n",
    "    S = frozenset(range(1, n))  # All nodes except the first and the last\n",
    "    dist, prev = g(S, n - 1)  # Start from all nodes and end at the last node\n",
    "    path = []\n",
    "    while S:\n",
    "        path.append(prev)\n",
    "        S = S - frozenset([prev])  # Remove the last visited node from the set\n",
    "        _, prev = g(S, prev)\n",
    "    path.reverse()\n",
    "    path = [0] + path  # Include the starting node\n",
    "    \n",
    "    return path, dist\n"
   ]
  },
  {
   "cell_type": "markdown",
   "metadata": {},
   "source": [
    "### BF Method"
   ]
  },
  {
   "cell_type": "code",
   "execution_count": 41,
   "metadata": {},
   "outputs": [],
   "source": [
    "from itertools import permutations\n",
    "\n",
    "# A BF solver\n",
    "def bf_solver(adj_matrix):\n",
    "    if len(adj_matrix) == 0:\n",
    "        return [], 0\n",
    "    elif len(adj_matrix) == 1:\n",
    "        return [0], 0\n",
    "    \n",
    "    min_dist = math.inf\n",
    "    min_path = None\n",
    "    for perm in permutations(range(1, len(adj_matrix)-1)): # [1, 2, ..., n-2]\n",
    "        path = [0] + list(perm) + [len(adj_matrix)-1]\n",
    "        dist = sum(adj_matrix[path[i]][path[i+1]] for i in range(len(path)-1))\n",
    "        if dist < min_dist:\n",
    "            min_dist = dist\n",
    "            min_path = path\n",
    "    return min_path, min_dist"
   ]
  },
  {
   "cell_type": "markdown",
   "metadata": {},
   "source": [
    "### ILP Method (Not Stable)"
   ]
  },
  {
   "cell_type": "code",
   "execution_count": 42,
   "metadata": {},
   "outputs": [
    {
     "name": "stdout",
     "output_type": "stream",
     "text": [
      "Requirement already satisfied: pulp in d:\\development\\eum-poirecsys\\tsp\\venv\\lib\\site-packages (2.9.0)\n",
      "Note: you may need to restart the kernel to use updated packages.\n"
     ]
    },
    {
     "name": "stderr",
     "output_type": "stream",
     "text": [
      "\n",
      "[notice] A new release of pip is available: 23.0.1 -> 24.2\n",
      "[notice] To update, run: python.exe -m pip install --upgrade pip\n"
     ]
    }
   ],
   "source": [
    "%pip install pulp"
   ]
  },
  {
   "cell_type": "code",
   "execution_count": 43,
   "metadata": {},
   "outputs": [],
   "source": [
    "import pulp\n",
    "\n",
    "# WARNING: This implementation is not stable.\n",
    "def tsp_ilp_solver(adj_matrix):\n",
    "    \"\"\"\n",
    "    Solve the traveling salesman problem using ILP (Integer Linear Programming)\n",
    "    to find the shortest path from the first node to the last node.\n",
    "    \n",
    "    Parameters:\n",
    "    adj_matrix: adjacency matrix where adj_matrix[i][j] is the distance from node i to node j\n",
    "    \n",
    "    Returns:\n",
    "    path: list representing the shortest path from the first node to the last node\n",
    "    distance: the shortest distance for the path\n",
    "    \"\"\"\n",
    "    \n",
    "    n = len(adj_matrix)\n",
    "    if n == 0:\n",
    "        return [], 0\n",
    "\n",
    "    # Create the ILP problem\n",
    "    prob = pulp.LpProblem(\"TSP\", pulp.LpMinimize)\n",
    "\n",
    "    # Decision variables: x[i,j] = 1 if edge (i,j) is in the path, otherwise 0\n",
    "    x = pulp.LpVariable.dicts(\"x\", [(i, j) for i in range(n) for j in range(n) if i != j], cat='Binary')\n",
    "\n",
    "    # Objective: minimize the sum of the distances for the selected edges\n",
    "    prob += pulp.lpSum(adj_matrix[i][j] * x[i, j] for i in range(n) for j in range(n) if i != j)\n",
    "\n",
    "    # Constraints:\n",
    "    # 1. Node 0 (start node) has exactly one outgoing edge\n",
    "    prob += pulp.lpSum(x[0, j] for j in range(1, n)) == 1\n",
    "\n",
    "    # 2. Node n-1 (end node) has exactly one incoming edge\n",
    "    prob += pulp.lpSum(x[i, n-1] for i in range(n-1)) == 1\n",
    "\n",
    "    # 3. All other nodes (1 to n-2) must have one incoming and one outgoing edge\n",
    "    for i in range(1, n-1):\n",
    "        prob += pulp.lpSum(x[i, j] for j in range(n) if i != j) == 1  # Outgoing edges\n",
    "        prob += pulp.lpSum(x[j, i] for j in range(n) if i != j) == 1  # Incoming edges\n",
    "\n",
    "    # 4. Eliminate subtours using Miller-Tucker-Zemlin (MTZ) formulation\n",
    "    u = pulp.LpVariable.dicts(\"u\", range(n), lowBound=0, upBound=n - 1, cat='Continuous')\n",
    "    for i in range(1, n-1):\n",
    "        for j in range(1, n-1):\n",
    "            if i != j:\n",
    "                prob += u[i] - u[j] + n * x[i, j] <= n - 1\n",
    "\n",
    "    # Solve the ILP\n",
    "    prob.solve()\n",
    "\n",
    "    # Extract the path from the solution\n",
    "    path = [0]\n",
    "    current = 0\n",
    "    while current != n-1:\n",
    "        for j in range(n):\n",
    "            if current != j and pulp.value(x[current, j]) == 1:\n",
    "                path.append(j)\n",
    "                current = j\n",
    "                break\n",
    "\n",
    "    # Calculate the total distance\n",
    "    total_distance = sum(adj_matrix[path[i]][path[i+1]] for i in range(n - 1))\n",
    "\n",
    "    return path, total_distance"
   ]
  },
  {
   "cell_type": "markdown",
   "metadata": {},
   "source": [
    "### Utils"
   ]
  },
  {
   "cell_type": "code",
   "execution_count": 44,
   "metadata": {},
   "outputs": [],
   "source": [
    "# Points to adj matrix\n",
    "def points_to_adj_matrix(points):\n",
    "    n = len(points)\n",
    "    adj_matrix = [[0] * n for _ in range(n)]\n",
    "    for i in range(n):\n",
    "        for j in range(i + 1, n):\n",
    "            adj_matrix[i][j] = adj_matrix[j][i] = math.dist(points[i], points[j])\n",
    "    return adj_matrix"
   ]
  },
  {
   "cell_type": "markdown",
   "metadata": {},
   "source": [
    "### Quick Test"
   ]
  },
  {
   "cell_type": "code",
   "execution_count": 45,
   "metadata": {},
   "outputs": [
    {
     "name": "stdout",
     "output_type": "stream",
     "text": [
      "([0, 1, 2, 3, 4], 5.656854249492381)\n",
      "([0, 1, 2, 3, 4], 5.656854249492381)\n"
     ]
    }
   ],
   "source": [
    "# The adjacency matrix of the graph\n",
    "points = [(0, 0), (1, 1), (2, 2), (3, 3), (4, 4)]\n",
    "adj_matrix = points_to_adj_matrix(points)\n",
    "\n",
    "print(held_karp_solver(adj_matrix)) # Output: 21\n",
    "print(bf_solver(adj_matrix)) # Output: 21\n"
   ]
  },
  {
   "cell_type": "code",
   "execution_count": 46,
   "metadata": {},
   "outputs": [
    {
     "name": "stdout",
     "output_type": "stream",
     "text": [
      "([0, 7, 2, 4, 5, 3, 6, 1, 8, 9], 270.0981488625184)\n",
      "Held-Karp time: 0.007207393646240234\n",
      "([0, 7, 2, 4, 5, 3, 6, 1, 8, 9], 270.0981488625184)\n",
      "BF time: 0.07203197479248047\n"
     ]
    }
   ],
   "source": [
    "# Test with random points\n",
    "import random\n",
    "import time\n",
    "\n",
    "points = [(random.uniform(0, 100), random.uniform(0, 100)) for _ in range(10)]\n",
    "adj_matrix = points_to_adj_matrix(points)\n",
    "\n",
    "start_time = time.time()\n",
    "print(held_karp_solver(adj_matrix))\n",
    "print(\"Held-Karp time:\", time.time() - start_time)\n",
    "\n",
    "start_time = time.time()\n",
    "print(bf_solver(adj_matrix))\n",
    "print(\"BF time:\", time.time() - start_time)"
   ]
  },
  {
   "cell_type": "markdown",
   "metadata": {},
   "source": [
    "### Testing the implementation"
   ]
  },
  {
   "cell_type": "code",
   "execution_count": 47,
   "metadata": {},
   "outputs": [
    {
     "name": "stdout",
     "output_type": "stream",
     "text": [
      "Requirement already satisfied: tqdm in d:\\development\\eum-poirecsys\\tsp\\venv\\lib\\site-packages (4.66.5)\n",
      "Requirement already satisfied: colorama in d:\\development\\eum-poirecsys\\tsp\\venv\\lib\\site-packages (from tqdm) (0.4.6)\n",
      "Note: you may need to restart the kernel to use updated packages.\n"
     ]
    },
    {
     "name": "stderr",
     "output_type": "stream",
     "text": [
      "\n",
      "[notice] A new release of pip is available: 23.0.1 -> 24.2\n",
      "[notice] To update, run: python.exe -m pip install --upgrade pip\n"
     ]
    }
   ],
   "source": [
    "%pip install tqdm"
   ]
  },
  {
   "cell_type": "code",
   "execution_count": 48,
   "metadata": {},
   "outputs": [],
   "source": [
    "from tqdm import tqdm"
   ]
  },
  {
   "cell_type": "code",
   "execution_count": 49,
   "metadata": {},
   "outputs": [
    {
     "name": "stderr",
     "output_type": "stream",
     "text": [
      "Testing length: 0: 100%|██████████| 15/15 [00:00<?, ?it/s]\n",
      "Testing length: 3: 100%|██████████| 7/7 [00:00<?, ?it/s]\n",
      "Testing length: 6: 100%|██████████| 6/6 [00:00<00:00, 1378.80it/s]\n",
      "Testing length: 9: 100%|██████████| 6/6 [00:00<00:00, 40.42it/s]\n",
      "Testing length: 12: 100%|██████████| 5/5 [00:42<00:00,  8.43s/it]"
     ]
    },
    {
     "name": "stdout",
     "output_type": "stream",
     "text": [
      "Passed\n"
     ]
    },
    {
     "name": "stderr",
     "output_type": "stream",
     "text": [
      "\n"
     ]
    }
   ],
   "source": [
    "# Test for many cases, this is slow due to BF\n",
    "for length in range(0, 13, 3):\n",
    "    for _ in tqdm(range(int(10 / (length + 1)) + 5), desc=f\"Testing length: {length}\"):\n",
    "        points = [(random.uniform(-100, 100), random.uniform(-100, 100)) for _ in range(length)]\n",
    "        adj_matrix = points_to_adj_matrix(points)\n",
    "        \n",
    "        held_karp_res = held_karp_solver(adj_matrix)\n",
    "        held_karp_set_res = held_karp_solver_using_set(adj_matrix)\n",
    "        # tsp_ilp_solver_res = tsp_ilp_solver(adj_matrix)\n",
    "        bf_res = bf_solver(adj_matrix)\n",
    "\n",
    "        # Assert the results compare to BF solver\n",
    "        assert held_karp_res[0] == bf_res[0], f\"HK != BF for path, {held_karp_res[0]} != {bf_res[0]}\"\n",
    "        assert held_karp_set_res[0] == bf_res[0], f\"HK Set != BF for path, {held_karp_set_res[0]} != {bf_res[0]}\"\n",
    "        # assert tsp_ilp_solver_res[0] == bf_res[0], f\"ILP != BF for path, {tsp_ilp_solver_res[0]} != {bf_res[0]}\"\n",
    "\n",
    "        assert held_karp_res[1] == bf_res[1], f\"HK != BF for distance, {held_karp_res[1]} != {bf_res[1]}\"\n",
    "        assert held_karp_set_res[1] == bf_res[1], f\"HK Set != BF for distance, {held_karp_set_res[1]} != {bf_res[1]}\"\n",
    "        # assert tsp_ilp_solver_res[1] == bf_res[1], f\"ILP != BF for distance, {tsp_ilp_solver_res[1]} != {bf_res[1]}\"\n",
    "\n",
    "print(\"Passed\")"
   ]
  },
  {
   "cell_type": "code",
   "execution_count": 50,
   "metadata": {},
   "outputs": [
    {
     "name": "stdout",
     "output_type": "stream",
     "text": [
      "Held-Karp time: 0.015782833099365234\n",
      "Held-Karp Set time: 0.023154497146606445\n",
      "Held-Karp time: 0.016842126846313477\n",
      "Held-Karp Set time: 0.027333974838256836\n",
      "Held-Karp time: 0.009853839874267578\n",
      "Held-Karp Set time: 0.015386819839477539\n",
      "Held-Karp time: 0.011191368103027344\n",
      "Held-Karp Set time: 0.19412732124328613\n",
      "Held-Karp time: 0.010795354843139648\n",
      "Held-Karp Set time: 0.01575446128845215\n",
      "Held-Karp time: 0.011000871658325195\n",
      "Held-Karp Set time: 0.016983985900878906\n",
      "Held-Karp time: 0.016232013702392578\n",
      "Held-Karp Set time: 0.01798558235168457\n",
      "Held-Karp time: 0.014143943786621094\n",
      "Held-Karp Set time: 0.01803302764892578\n",
      "Held-Karp time: 0.013238906860351562\n",
      "Held-Karp Set time: 0.01814723014831543\n",
      "Held-Karp time: 0.01293325424194336\n",
      "Held-Karp Set time: 0.021781206130981445\n",
      "Average time for cache: 0.013201451301574707\n",
      "Average time for set: 0.03697414398193359\n"
     ]
    }
   ],
   "source": [
    "# Testing multiple ways for implementing the Held-Karp algorithm\n",
    "avg_time_cache = 0\n",
    "avg_time_set = 0\n",
    "# avg_ilp_time = 0\n",
    "\n",
    "for _ in range(10):\n",
    "    points = [(random.uniform(0, 100), random.uniform(0, 100)) for _ in range(10)]\n",
    "    adj_matrix = points_to_adj_matrix(points)\n",
    "\n",
    "    start_time = time.time()\n",
    "    held_karp_solver(adj_matrix)\n",
    "    avg_time_cache += time.time() - start_time\n",
    "    print(\"Held-Karp time:\", time.time() - start_time)\n",
    "\n",
    "    start_time = time.time()\n",
    "    held_karp_solver_using_set(adj_matrix)\n",
    "    print(\"Held-Karp Set time:\", time.time() - start_time)\n",
    "    avg_time_set += time.time() - start_time\n",
    "\n",
    "    # start_time = time.time()\n",
    "    # tsp_ilp_solver((adj_matrix[:-1])[:][:-1])\n",
    "    # print(\"ILP time:\", time.time() - start_time)\n",
    "    # avg_ilp_time += time.time() - start_time\n",
    "\n",
    "print(\"Average time for cache:\", avg_time_cache / 10)\n",
    "print(\"Average time for set:\", avg_time_set / 10)\n",
    "# print(\"Average time for ILP:\", avg_ilp_time / 10)"
   ]
  },
  {
   "cell_type": "code",
   "execution_count": null,
   "metadata": {},
   "outputs": [],
   "source": []
  }
 ],
 "metadata": {
  "kernelspec": {
   "display_name": "venv",
   "language": "python",
   "name": "python3"
  },
  "language_info": {
   "codemirror_mode": {
    "name": "ipython",
    "version": 3
   },
   "file_extension": ".py",
   "mimetype": "text/x-python",
   "name": "python",
   "nbconvert_exporter": "python",
   "pygments_lexer": "ipython3",
   "version": "3.10.11"
  }
 },
 "nbformat": 4,
 "nbformat_minor": 2
}
