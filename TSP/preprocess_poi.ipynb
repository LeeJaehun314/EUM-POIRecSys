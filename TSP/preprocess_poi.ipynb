{
 "cells": [
  {
   "cell_type": "markdown",
   "metadata": {},
   "source": [
    "### Make a small POI table for held_kerp_planning.py"
   ]
  },
  {
   "cell_type": "code",
   "execution_count": 2,
   "metadata": {},
   "outputs": [
    {
     "name": "stdout",
     "output_type": "stream",
     "text": [
      "Collecting pandas\n",
      "  Using cached pandas-2.2.2-cp310-cp310-win_amd64.whl (11.6 MB)\n",
      "Collecting tzdata>=2022.7\n",
      "  Using cached tzdata-2024.1-py2.py3-none-any.whl (345 kB)\n",
      "Requirement already satisfied: python-dateutil>=2.8.2 in d:\\development\\eum-poirecsys\\tsp\\venv\\lib\\site-packages (from pandas) (2.9.0.post0)\n",
      "Collecting pytz>=2020.1\n",
      "  Downloading pytz-2024.2-py2.py3-none-any.whl (508 kB)\n",
      "     ---------------------------------------- 0.0/508.0 kB ? eta -:--:--\n",
      "     --------------------- ---------------- 286.7/508.0 kB 6.0 MB/s eta 0:00:01\n",
      "     -------------------------------------- 508.0/508.0 kB 8.0 MB/s eta 0:00:00\n",
      "Requirement already satisfied: numpy>=1.22.4 in d:\\development\\eum-poirecsys\\tsp\\venv\\lib\\site-packages (from pandas) (2.1.1)\n",
      "Requirement already satisfied: six>=1.5 in d:\\development\\eum-poirecsys\\tsp\\venv\\lib\\site-packages (from python-dateutil>=2.8.2->pandas) (1.16.0)\n",
      "Installing collected packages: pytz, tzdata, pandas\n",
      "Successfully installed pandas-2.2.2 pytz-2024.2 tzdata-2024.1\n",
      "Note: you may need to restart the kernel to use updated packages.\n"
     ]
    },
    {
     "name": "stderr",
     "output_type": "stream",
     "text": [
      "\n",
      "[notice] A new release of pip is available: 23.0.1 -> 24.2\n",
      "[notice] To update, run: python.exe -m pip install --upgrade pip\n"
     ]
    }
   ],
   "source": [
    "%pip install pandas"
   ]
  },
  {
   "cell_type": "code",
   "execution_count": 4,
   "metadata": {},
   "outputs": [
    {
     "name": "stderr",
     "output_type": "stream",
     "text": [
      "C:\\Users\\ljhga\\AppData\\Local\\Temp\\ipykernel_23656\\2392130107.py:4: DtypeWarning: Columns (3,4,12) have mixed types. Specify dtype option on import or set low_memory=False.\n",
      "  poi = pd.read_csv('../dataset_2023/Other/tn_poi_master_POIMaster_all.csv')\n"
     ]
    }
   ],
   "source": [
    "import pandas as pd\n",
    "\n",
    "# Pre-load POI data\n",
    "poi = pd.read_csv('../dataset_2023/Other/tn_poi_master_POIMaster_all.csv')"
   ]
  },
  {
   "cell_type": "code",
   "execution_count": 5,
   "metadata": {},
   "outputs": [],
   "source": [
    "poi_coords = poi[['POI_ID', 'POI_NM', \"X_COORD\",\"Y_COORD\"]]"
   ]
  },
  {
   "cell_type": "code",
   "execution_count": 8,
   "metadata": {},
   "outputs": [
    {
     "data": {
      "text/plain": [
       "POI_ID     0\n",
       "POI_NM     5\n",
       "X_COORD    0\n",
       "Y_COORD    0\n",
       "dtype: int64"
      ]
     },
     "execution_count": 8,
     "metadata": {},
     "output_type": "execute_result"
    }
   ],
   "source": [
    "poi_coords.isna().sum()"
   ]
  },
  {
   "cell_type": "code",
   "execution_count": 9,
   "metadata": {},
   "outputs": [],
   "source": [
    "poi_coords.to_csv('./poi_coords.csv', index=False)"
   ]
  },
  {
   "cell_type": "markdown",
   "metadata": {},
   "source": [
    "### Testing search methods"
   ]
  },
  {
   "cell_type": "code",
   "execution_count": 12,
   "metadata": {},
   "outputs": [],
   "source": [
    "import time"
   ]
  },
  {
   "cell_type": "code",
   "execution_count": 10,
   "metadata": {},
   "outputs": [],
   "source": [
    "poi_idx = [0, 1, 2, 3, 4]\n",
    "poi_ids = poi_coords['POI_ID'][poi_idx].tolist()"
   ]
  },
  {
   "cell_type": "code",
   "execution_count": 13,
   "metadata": {},
   "outputs": [
    {
     "name": "stdout",
     "output_type": "stream",
     "text": [
      "Searchsorted took 0.0 seconds\n"
     ]
    }
   ],
   "source": [
    "# Maybe use hash?\n",
    "time_start = time.time()\n",
    "points = poi_coords['POI_ID'].searchsorted(poi_ids)\n",
    "time_end = time.time()\n",
    "print(f\"Searchsorted took {time_end - time_start} seconds\")"
   ]
  },
  {
   "cell_type": "code",
   "execution_count": 17,
   "metadata": {},
   "outputs": [
    {
     "data": {
      "text/plain": [
       "array([[127.06851467,  37.56345887],\n",
       "       [127.16821357,  37.6970962 ],\n",
       "       [126.74418807,  37.62416749],\n",
       "       [127.73344952,  37.91015229],\n",
       "       [128.43160327,  37.45698461]])"
      ]
     },
     "execution_count": 17,
     "metadata": {},
     "output_type": "execute_result"
    }
   ],
   "source": [
    "poi_indexes = poi_coords['POI_ID'].searchsorted(poi_ids)\n",
    "poi_coords.iloc[poi_indexes][['X_COORD', 'Y_COORD']].values"
   ]
  },
  {
   "cell_type": "code",
   "execution_count": null,
   "metadata": {},
   "outputs": [],
   "source": []
  }
 ],
 "metadata": {
  "kernelspec": {
   "display_name": "venv",
   "language": "python",
   "name": "python3"
  },
  "language_info": {
   "codemirror_mode": {
    "name": "ipython",
    "version": 3
   },
   "file_extension": ".py",
   "mimetype": "text/x-python",
   "name": "python",
   "nbconvert_exporter": "python",
   "pygments_lexer": "ipython3",
   "version": "3.10.11"
  }
 },
 "nbformat": 4,
 "nbformat_minor": 2
}
